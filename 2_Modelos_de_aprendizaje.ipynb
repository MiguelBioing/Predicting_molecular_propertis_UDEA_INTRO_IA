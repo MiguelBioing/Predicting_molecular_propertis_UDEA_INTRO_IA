{
  "cells": [
    {
      "cell_type": "code",
      "execution_count": 3,
      "metadata": {
        "colab": {
          "base_uri": "https://localhost:8080/"
        },
        "id": "2HM6JPc76Z6F",
        "outputId": "c2de68e2-cf28-4a75-ec4b-99de688f72c4"
      },
      "outputs": [
        {
          "name": "stdout",
          "output_type": "stream",
          "text": [
            "Mounted at /content/drive\n"
          ]
        }
      ],
      "source": [
        "from google.colab import drive\n",
        "drive.mount('/content/drive')"
      ]
    },
    {
      "cell_type": "code",
      "execution_count": 5,
      "metadata": {
        "id": "GvM2_LpH6nAI"
      },
      "outputs": [],
      "source": [
        "!pip install -U -q kaggle"
      ]
    },
    {
      "cell_type": "code",
      "execution_count": 6,
      "metadata": {
        "id": "j614rQPh6qMx"
      },
      "outputs": [],
      "source": [
        "!mkdir -p ~/.kaggle"
      ]
    },
    {
      "cell_type": "code",
      "execution_count": 7,
      "metadata": {
        "id": "zIZZMQ3_6wow"
      },
      "outputs": [],
      "source": [
        "from google.colab import files"
      ]
    },
    {
      "cell_type": "code",
      "execution_count": 8,
      "metadata": {
        "colab": {
          "base_uri": "https://localhost:8080/",
          "height": 91
        },
        "id": "B6E9oOlE60RT",
        "outputId": "6beca4be-3025-4ebb-cd21-556fa96dc620"
      },
      "outputs": [
        {
          "data": {
            "text/html": [
              "\n",
              "     <input type=\"file\" id=\"files-86322f8d-fbcf-439d-960f-25ea34392444\" name=\"files[]\" multiple disabled\n",
              "        style=\"border:none\" />\n",
              "     <output id=\"result-86322f8d-fbcf-439d-960f-25ea34392444\">\n",
              "      Upload widget is only available when the cell has been executed in the\n",
              "      current browser session. Please rerun this cell to enable.\n",
              "      </output>\n",
              "      <script>// Copyright 2017 Google LLC\n",
              "//\n",
              "// Licensed under the Apache License, Version 2.0 (the \"License\");\n",
              "// you may not use this file except in compliance with the License.\n",
              "// You may obtain a copy of the License at\n",
              "//\n",
              "//      http://www.apache.org/licenses/LICENSE-2.0\n",
              "//\n",
              "// Unless required by applicable law or agreed to in writing, software\n",
              "// distributed under the License is distributed on an \"AS IS\" BASIS,\n",
              "// WITHOUT WARRANTIES OR CONDITIONS OF ANY KIND, either express or implied.\n",
              "// See the License for the specific language governing permissions and\n",
              "// limitations under the License.\n",
              "\n",
              "/**\n",
              " * @fileoverview Helpers for google.colab Python module.\n",
              " */\n",
              "(function(scope) {\n",
              "function span(text, styleAttributes = {}) {\n",
              "  const element = document.createElement('span');\n",
              "  element.textContent = text;\n",
              "  for (const key of Object.keys(styleAttributes)) {\n",
              "    element.style[key] = styleAttributes[key];\n",
              "  }\n",
              "  return element;\n",
              "}\n",
              "\n",
              "// Max number of bytes which will be uploaded at a time.\n",
              "const MAX_PAYLOAD_SIZE = 100 * 1024;\n",
              "\n",
              "function _uploadFiles(inputId, outputId) {\n",
              "  const steps = uploadFilesStep(inputId, outputId);\n",
              "  const outputElement = document.getElementById(outputId);\n",
              "  // Cache steps on the outputElement to make it available for the next call\n",
              "  // to uploadFilesContinue from Python.\n",
              "  outputElement.steps = steps;\n",
              "\n",
              "  return _uploadFilesContinue(outputId);\n",
              "}\n",
              "\n",
              "// This is roughly an async generator (not supported in the browser yet),\n",
              "// where there are multiple asynchronous steps and the Python side is going\n",
              "// to poll for completion of each step.\n",
              "// This uses a Promise to block the python side on completion of each step,\n",
              "// then passes the result of the previous step as the input to the next step.\n",
              "function _uploadFilesContinue(outputId) {\n",
              "  const outputElement = document.getElementById(outputId);\n",
              "  const steps = outputElement.steps;\n",
              "\n",
              "  const next = steps.next(outputElement.lastPromiseValue);\n",
              "  return Promise.resolve(next.value.promise).then((value) => {\n",
              "    // Cache the last promise value to make it available to the next\n",
              "    // step of the generator.\n",
              "    outputElement.lastPromiseValue = value;\n",
              "    return next.value.response;\n",
              "  });\n",
              "}\n",
              "\n",
              "/**\n",
              " * Generator function which is called between each async step of the upload\n",
              " * process.\n",
              " * @param {string} inputId Element ID of the input file picker element.\n",
              " * @param {string} outputId Element ID of the output display.\n",
              " * @return {!Iterable<!Object>} Iterable of next steps.\n",
              " */\n",
              "function* uploadFilesStep(inputId, outputId) {\n",
              "  const inputElement = document.getElementById(inputId);\n",
              "  inputElement.disabled = false;\n",
              "\n",
              "  const outputElement = document.getElementById(outputId);\n",
              "  outputElement.innerHTML = '';\n",
              "\n",
              "  const pickedPromise = new Promise((resolve) => {\n",
              "    inputElement.addEventListener('change', (e) => {\n",
              "      resolve(e.target.files);\n",
              "    });\n",
              "  });\n",
              "\n",
              "  const cancel = document.createElement('button');\n",
              "  inputElement.parentElement.appendChild(cancel);\n",
              "  cancel.textContent = 'Cancel upload';\n",
              "  const cancelPromise = new Promise((resolve) => {\n",
              "    cancel.onclick = () => {\n",
              "      resolve(null);\n",
              "    };\n",
              "  });\n",
              "\n",
              "  // Wait for the user to pick the files.\n",
              "  const files = yield {\n",
              "    promise: Promise.race([pickedPromise, cancelPromise]),\n",
              "    response: {\n",
              "      action: 'starting',\n",
              "    }\n",
              "  };\n",
              "\n",
              "  cancel.remove();\n",
              "\n",
              "  // Disable the input element since further picks are not allowed.\n",
              "  inputElement.disabled = true;\n",
              "\n",
              "  if (!files) {\n",
              "    return {\n",
              "      response: {\n",
              "        action: 'complete',\n",
              "      }\n",
              "    };\n",
              "  }\n",
              "\n",
              "  for (const file of files) {\n",
              "    const li = document.createElement('li');\n",
              "    li.append(span(file.name, {fontWeight: 'bold'}));\n",
              "    li.append(span(\n",
              "        `(${file.type || 'n/a'}) - ${file.size} bytes, ` +\n",
              "        `last modified: ${\n",
              "            file.lastModifiedDate ? file.lastModifiedDate.toLocaleDateString() :\n",
              "                                    'n/a'} - `));\n",
              "    const percent = span('0% done');\n",
              "    li.appendChild(percent);\n",
              "\n",
              "    outputElement.appendChild(li);\n",
              "\n",
              "    const fileDataPromise = new Promise((resolve) => {\n",
              "      const reader = new FileReader();\n",
              "      reader.onload = (e) => {\n",
              "        resolve(e.target.result);\n",
              "      };\n",
              "      reader.readAsArrayBuffer(file);\n",
              "    });\n",
              "    // Wait for the data to be ready.\n",
              "    let fileData = yield {\n",
              "      promise: fileDataPromise,\n",
              "      response: {\n",
              "        action: 'continue',\n",
              "      }\n",
              "    };\n",
              "\n",
              "    // Use a chunked sending to avoid message size limits. See b/62115660.\n",
              "    let position = 0;\n",
              "    do {\n",
              "      const length = Math.min(fileData.byteLength - position, MAX_PAYLOAD_SIZE);\n",
              "      const chunk = new Uint8Array(fileData, position, length);\n",
              "      position += length;\n",
              "\n",
              "      const base64 = btoa(String.fromCharCode.apply(null, chunk));\n",
              "      yield {\n",
              "        response: {\n",
              "          action: 'append',\n",
              "          file: file.name,\n",
              "          data: base64,\n",
              "        },\n",
              "      };\n",
              "\n",
              "      let percentDone = fileData.byteLength === 0 ?\n",
              "          100 :\n",
              "          Math.round((position / fileData.byteLength) * 100);\n",
              "      percent.textContent = `${percentDone}% done`;\n",
              "\n",
              "    } while (position < fileData.byteLength);\n",
              "  }\n",
              "\n",
              "  // All done.\n",
              "  yield {\n",
              "    response: {\n",
              "      action: 'complete',\n",
              "    }\n",
              "  };\n",
              "}\n",
              "\n",
              "scope.google = scope.google || {};\n",
              "scope.google.colab = scope.google.colab || {};\n",
              "scope.google.colab._files = {\n",
              "  _uploadFiles,\n",
              "  _uploadFilesContinue,\n",
              "};\n",
              "})(self);\n",
              "</script> "
            ],
            "text/plain": [
              "<IPython.core.display.HTML object>"
            ]
          },
          "metadata": {},
          "output_type": "display_data"
        },
        {
          "name": "stdout",
          "output_type": "stream",
          "text": [
            "Saving kaggle.json to kaggle.json\n"
          ]
        },
        {
          "data": {
            "text/plain": [
              "{'kaggle.json': b'{\"username\":\"miguelariaslondoo\",\"key\":\"7418f5016cd15765af60765f150c1ba7\"}'}"
            ]
          },
          "execution_count": 8,
          "metadata": {},
          "output_type": "execute_result"
        }
      ],
      "source": [
        "files\n",
        "files.upload()"
      ]
    },
    {
      "cell_type": "code",
      "execution_count": 9,
      "metadata": {
        "id": "gKQTIyJC7EWC"
      },
      "outputs": [],
      "source": [
        "!cp kaggle.json ~/.kaggle/"
      ]
    },
    {
      "cell_type": "code",
      "execution_count": 10,
      "metadata": {
        "colab": {
          "base_uri": "https://localhost:8080/"
        },
        "id": "YA653Rbj7IC8",
        "outputId": "3532e69d-0fea-4f7c-b5e7-f32b537400d5"
      },
      "outputs": [
        {
          "name": "stdout",
          "output_type": "stream",
          "text": [
            "Warning: Your Kaggle API key is readable by other users on this system! To fix this, you can run 'chmod 600 /root/.kaggle/kaggle.json'\n",
            "Downloading champs-scalar-coupling.zip to /content\n",
            " 98% 369M/377M [00:04<00:00, 55.5MB/s]\n",
            "100% 377M/377M [00:04<00:00, 97.1MB/s]\n"
          ]
        }
      ],
      "source": [
        "!kaggle competitions download -c champs-scalar-coupling"
      ]
    },
    {
      "cell_type": "code",
      "execution_count": null,
      "metadata": {
        "id": "EHOoqEW37LX0"
      },
      "outputs": [],
      "source": [
        "!unzip -o '/content/champs-scalar-coupling.zip'"
      ]
    },
    {
      "cell_type": "code",
      "execution_count": 1,
      "metadata": {
        "id": "ikkjYZy1EClz"
      },
      "outputs": [],
      "source": [
        "import numpy as np\n",
        "import matplotlib.pyplot as plt\n",
        "from sklearn import preprocessing as ps\n",
        "from sklearn.model_selection import KFold, cross_val_score, learning_curve, ShuffleSplit\n",
        "from sklearn.tree import DecisionTreeRegressor, DecisionTreeClassifier\n",
        "from sklearn.model_selection import train_test_split\n",
        "from sklearn.metrics import confusion_matrix, mean_squared_error, accuracy_score, mean_absolute_error, r2_score\n",
        "import pandas as pd\n",
        "from sklearn.preprocessing import StandardScaler, MinMaxScaler\n",
        "from sklearn.svm import LinearSVC\n",
        "import textwrap\n",
        "from sklearn.decomposition import NMF, PCA\n",
        "from itertools import product\n",
        "from sklearn.ensemble import RandomForestRegressor\n",
        "import seaborn as sns\n",
        "from sklearn.model_selection import cross_validate, GridSearchCV\n",
        "from sklearn.linear_model import LinearRegression\n",
        "from sklearn.model_selection import RandomizedSearchCV"
      ]
    },
    {
      "cell_type": "markdown",
      "metadata": {
        "id": "NJ9hmiMG31Sl"
      },
      "source": [
        "CARGAMOS TODOS LOS DATOS EN SUS RESPECTIVOS DATAFRAMES\n"
      ]
    },
    {
      "cell_type": "code",
      "execution_count": 2,
      "metadata": {
        "id": "kFNnSiJh3-kW"
      },
      "outputs": [],
      "source": [
        "import pandas as pd\n",
        "import matplotlib.pyplot as plt\n",
        "\n",
        "df_dipole_moments = pd.read_csv('dipole_moments.csv')\n",
        "df_magnetic_shielding_tensors = pd.read_csv('magnetic_shielding_tensors.csv')\n",
        "df_mulliken_charges = pd.read_csv('mulliken_charges.csv')\n",
        "df_potential_energy = pd.read_csv('potential_energy.csv')\n",
        "#df_sample_submission = pd.read_csv('sample_submission.csv')\n",
        "df_scalar_coupling_contributions = pd.read_csv('scalar_coupling_contributions.csv')\n",
        "df_structures = pd.read_csv('structures.csv')\n",
        "df_test = pd.read_csv('test.csv')\n",
        "df_train = pd.read_csv('train.csv')\n"
      ]
    },
    {
      "cell_type": "markdown",
      "metadata": {
        "id": "D6jpXg48aYJp"
      },
      "source": [
        "## Preprosesamiento de datos\n",
        "Generar el Dataframe completo a utilizar como el generado en el notebook de exploracion de datos"
      ]
    },
    {
      "cell_type": "code",
      "execution_count": 3,
      "metadata": {
        "id": "LT6xSNACaLzU"
      },
      "outputs": [],
      "source": [
        "# Data frame of dipole moments and potential energy\n",
        "# have the same size,are he total number of molecules by name\n",
        "df_dipole_moments_potential_energy = pd.merge(df_dipole_moments, df_potential_energy, on='molecule_name')\n",
        "#rename the columns x y z to dipole_moment_x dipole_moment_y dipole_moment_z\n",
        "df_dipole_moments_potential_energy.rename(columns={'X': 'dipole_moment_x', 'Y': 'dipole_moment_y', 'Z': 'dipole_moment_z'}, inplace=True)\n",
        "#data frame of magnetic shielding tensors,structures and mulliken charges\n",
        "#merge the data frames y molecule name and atom index\n",
        "df_magnetic_shielding_tensors_mulliken_charges_structures = pd.merge(df_magnetic_shielding_tensors, df_mulliken_charges, on=['molecule_name','atom_index'])\n",
        "df_magnetic_shielding_tensors_mulliken_charges_structures = pd.merge(df_magnetic_shielding_tensors_mulliken_charges_structures, df_structures, on=['molecule_name','atom_index'])\n",
        "#data frame of train and scalar coupling contributions,have the same size\n",
        "# merging the 2 data frames by molecule name,type and atom index\n",
        "df_train_scalar_coupling_contributions = pd.merge(df_train, df_scalar_coupling_contributions, on=['molecule_name','atom_index_0','atom_index_1','type'])\n",
        "#Now we have to merge df_dipole_moments_potential_energy and df_train_scalar_coupling_contributions\n",
        "#by molecule name,the is only one molecule name in df_dipole_moments_potential_energy so that means that\n",
        "#so it must aply to all the rows of df_train_scalar_coupling_contributions by the same name\n",
        "df_dipole_moments_potential_energy_train_scalar_coupling_contributions = pd.merge(df_dipole_moments_potential_energy, df_train_scalar_coupling_contributions, on=['molecule_name'])\n",
        "#erase de id column\n",
        "df_dipole_moments_potential_energy_train_scalar_coupling_contributions.drop(['id'], axis=1, inplace=True)\n",
        "# putting atom_index_0 and atom_index_1 next to molecule_name\n",
        "cols = list(df_dipole_moments_potential_energy_train_scalar_coupling_contributions.columns.values)\n",
        "cols.pop(cols.index('molecule_name'))\n",
        "cols.pop(cols.index('atom_index_0'))\n",
        "cols.pop(cols.index('atom_index_1'))\n",
        "df_dipole_moments_potential_energy_train_scalar_coupling_contributions = df_dipole_moments_potential_energy_train_scalar_coupling_contributions[['molecule_name']+['atom_index_0']+['atom_index_1']+cols]\n",
        "\n",
        "# first we create df_magnetic_shielding_tensors_mulliken_charges_structures_atom_index_0\n",
        "df_magnetic_shielding_tensors_mulliken_charges_structures_atom_index_0 = df_magnetic_shielding_tensors_mulliken_charges_structures.copy()\n",
        "# rename all the columns of df_magnetic_shielding_tensors_mulliken_charges_structures_atom_index_0 adig a AT0 to the end of each column name\n",
        "# except atom_index and molecule_name\n",
        "df_magnetic_shielding_tensors_mulliken_charges_structures_atom_index_0.rename(columns=lambda x: x + '_AT0' if (x != 'atom_index' and x != 'molecule_name') else x, inplace=True)\n",
        "df_magnetic_shielding_tensors_mulliken_charges_structures_atom_index_0.rename(columns={'atom_index': 'atom_index_0'}, inplace=True)\n",
        "#we do the same for df_magnetic_shielding_tensors_mulliken_charges_structures_atom_index_1\n",
        "df_magnetic_shielding_tensors_mulliken_charges_structures_atom_index_1 = df_magnetic_shielding_tensors_mulliken_charges_structures.copy()\n",
        "df_magnetic_shielding_tensors_mulliken_charges_structures_atom_index_1.rename(columns=lambda x: x + '_AT1' if (x != 'atom_index' and x != 'molecule_name') else x, inplace=True)\n",
        "df_magnetic_shielding_tensors_mulliken_charges_structures_atom_index_1.rename(columns={'atom_index': 'atom_index_1'}, inplace=True)\n",
        "#the names are very long so we rename the dataframe\n",
        "df_pm_pe_t_scc = df_dipole_moments_potential_energy_train_scalar_coupling_contributions.copy()\n",
        "#now we merge the first time df_dipole_moments_potential_energy_train_scalar_coupling_contributions\n",
        "# with df_magnetic_shielding_tensors_mulliken_charges_structures_atom_index_0\n",
        "df_pm_pe_t_scc_mst_mcs_ai0 = pd.merge(df_pm_pe_t_scc, df_magnetic_shielding_tensors_mulliken_charges_structures_atom_index_0, on=['molecule_name','atom_index_0'])\n",
        "#now we merge the second time df_dipole_moments_potential_energy_train_scalar_coupling_contributions\n",
        "# with df_magnetic_shielding_tensors_mulliken_charges_structures_atom_index_1\n",
        "df_pm_pe_t_scc_mst_mcs_ai0_ai1 = pd.merge(df_pm_pe_t_scc_mst_mcs_ai0, df_magnetic_shielding_tensors_mulliken_charges_structures_atom_index_1, on=['molecule_name','atom_index_1'])\n"
      ]
    },
    {
      "cell_type": "code",
      "execution_count": 4,
      "metadata": {
        "id": "74BvBCqiBBqx"
      },
      "outputs": [],
      "source": [
        "df_final_train=df_pm_pe_t_scc_mst_mcs_ai0_ai1.copy()"
      ]
    },
    {
      "cell_type": "code",
      "execution_count": 5,
      "metadata": {
        "colab": {
          "base_uri": "https://localhost:8080/"
        },
        "id": "_wn6T50WBEu-",
        "outputId": "9cbb0606-c649-4bbd-939b-fe58c481c038"
      },
      "outputs": [
        {
          "name": "stdout",
          "output_type": "stream",
          "text": [
            "      molecule_name  atom_index_0  atom_index_1  dipole_moment_x  \\\n",
            "0  dsgdb9nsd_000001             1             0              0.0   \n",
            "1  dsgdb9nsd_000001             2             0              0.0   \n",
            "2  dsgdb9nsd_000001             3             0              0.0   \n",
            "3  dsgdb9nsd_000001             4             0              0.0   \n",
            "4  dsgdb9nsd_000001             1             2              0.0   \n",
            "\n",
            "   dipole_moment_y  dipole_moment_z  potential_energy  type  \\\n",
            "0              0.0              0.0         -40.52368  1JHC   \n",
            "1              0.0              0.0         -40.52368  1JHC   \n",
            "2              0.0              0.0         -40.52368  1JHC   \n",
            "3              0.0              0.0         -40.52368  1JHC   \n",
            "4              0.0              0.0         -40.52368  2JHH   \n",
            "\n",
            "   scalar_coupling_constant       fc  ...    YY_AT1  ZY_AT1  XZ_AT1  YZ_AT1  \\\n",
            "0                   84.8076  83.0224  ...  195.3171  0.0007 -0.0001  0.0007   \n",
            "1                   84.8074  83.0222  ...  195.3171  0.0007 -0.0001  0.0007   \n",
            "2                   84.8093  83.0241  ...  195.3171  0.0007 -0.0001  0.0007   \n",
            "3                   84.8095  83.0243  ...  195.3171  0.0007 -0.0001  0.0007   \n",
            "4                  -11.2570 -11.0347  ...   28.9036 -1.6036 -4.1476 -1.6036   \n",
            "\n",
            "     ZZ_AT1  mulliken_charge_AT1  atom_AT1     x_AT1     y_AT1     z_AT1  \n",
            "0  195.3169            -0.535689         C -0.012698  1.085804  0.008001  \n",
            "1  195.3169            -0.535689         C -0.012698  1.085804  0.008001  \n",
            "2  195.3169            -0.535689         C -0.012698  1.085804  0.008001  \n",
            "3  195.3169            -0.535689         C -0.012698  1.085804  0.008001  \n",
            "4   33.8967             0.133922         H  1.011731  1.463751  0.000277  \n",
            "\n",
            "[5 rows x 41 columns]\n",
            "(4659076, 41)\n"
          ]
        }
      ],
      "source": [
        "print(df_final_train.head())\n",
        "print(df_final_train.shape)\n",
        "df_final_train_test_origin=df_final_train.copy()"
      ]
    },
    {
      "cell_type": "code",
      "execution_count": 11,
      "metadata": {
        "colab": {
          "base_uri": "https://localhost:8080/"
        },
        "id": "tYG-qVIPBSBz",
        "outputId": "cb93bf75-7589-4a45-80e6-5ddc61c6b2c3"
      },
      "outputs": [
        {
          "name": "stdout",
          "output_type": "stream",
          "text": [
            "(10004, 41)\n"
          ]
        }
      ],
      "source": [
        "## se toman los primeros 10004 datos,se justifica ya que es el punto donde toda la informacion\n",
        "# hasta la molecula dsgdb9nsd_000521 esta completa,fallar en tomar toda la informacion de las moleculas generaria un error\n",
        "# en el modelo,por ende no se toma una aproximacion de toma de muestras aleatoria,\n",
        "# se considera que para fines academicos no es necesario utilizar mas datos\n",
        "#tanto por las limitaciones del jupyter y de tiempo\n",
        "\n",
        "df_final_train_test=df_final_train_test_origin.iloc[:10004,:]\n",
        "print(df_final_train_test.shape)\n"
      ]
    },
    {
      "cell_type": "code",
      "execution_count": 12,
      "metadata": {
        "id": "t0Tu9goA-URZ"
      },
      "outputs": [],
      "source": [
        "#Saving the DF origin to a .csv file\n",
        "df_final_train_test.to_csv('df_final_train_test.csv', index=False)"
      ]
    },
    {
      "cell_type": "code",
      "execution_count": 17,
      "metadata": {
        "id": "EiU6tVtDDgyT"
      },
      "outputs": [],
      "source": [
        "df_final_train_test = pd.read_csv('df_final_train_test.csv')"
      ]
    },
    {
      "cell_type": "code",
      "execution_count": 18,
      "metadata": {
        "id": "fbwvnBAmCEw2"
      },
      "outputs": [],
      "source": [
        "df_final_train_test.drop(['molecule_name'],axis=1,inplace=True)\n"
      ]
    },
    {
      "cell_type": "code",
      "execution_count": 19,
      "metadata": {
        "id": "VYtw-A6ScwCK"
      },
      "outputs": [],
      "source": [
        "def evaluador_modelos(nombre_modelo, modelo, X_train, y_train, X_test, y_test):\n",
        "    #se entrena\n",
        "    y_pred= modelo.predict(X_test)\n",
        "    #Se obtienen metricas consideradas de importancia\n",
        "    mae = mean_absolute_error(y_test, y_pred)\n",
        "    mse = mean_squared_error(y_test, y_pred)\n",
        "    rmse = mean_squared_error(y_test, y_pred,squared=False)\n",
        "    r2 = r2_score(y_test, y_pred)\n",
        "    y_test_mean= y_test.mean()\n",
        "    mae_ratio= mae/y_test_mean\n",
        "    rmse_ratio= rmse/y_test_mean\n",
        "    #Se organiza en una tabla\n",
        "    tablita = pd.DataFrame(\n",
        "        data=[[nombre_modelo, mae, mse, rmse, r2, mae_ratio, rmse_ratio]],\n",
        "        columns=[\"Model\", 'MAE', 'MSE', 'RMSE', 'R2 Score', \"MAE Ratio\", \"RMSE Ratio\"])\n",
        "    return tablita"
      ]
    },
    {
      "cell_type": "code",
      "execution_count": 20,
      "metadata": {
        "colab": {
          "base_uri": "https://localhost:8080/"
        },
        "id": "uBa9kg9kCS4G",
        "outputId": "41e26dbc-2f87-4f6b-a3a3-ffbef695caba"
      },
      "outputs": [
        {
          "name": "stdout",
          "output_type": "stream",
          "text": [
            "   atom_index_0  atom_index_1  dipole_moment_x  dipole_moment_y  \\\n",
            "0             1             0              0.0              0.0   \n",
            "1             2             0              0.0              0.0   \n",
            "2             3             0              0.0              0.0   \n",
            "3             4             0              0.0              0.0   \n",
            "4             1             2              0.0              0.0   \n",
            "\n",
            "   dipole_moment_z  potential_energy  type  scalar_coupling_constant       fc  \\\n",
            "0              0.0         -40.52368  1JHC                   84.8076  83.0224   \n",
            "1              0.0         -40.52368  1JHC                   84.8074  83.0222   \n",
            "2              0.0         -40.52368  1JHC                   84.8093  83.0241   \n",
            "3              0.0         -40.52368  1JHC                   84.8095  83.0243   \n",
            "4              0.0         -40.52368  2JHH                  -11.2570 -11.0347   \n",
            "\n",
            "         sd  ...    YY_AT1  ZY_AT1  XZ_AT1  YZ_AT1    ZZ_AT1  \\\n",
            "0  0.254579  ...  195.3171  0.0007 -0.0001  0.0007  195.3169   \n",
            "1  0.254585  ...  195.3171  0.0007 -0.0001  0.0007  195.3169   \n",
            "2  0.254634  ...  195.3171  0.0007 -0.0001  0.0007  195.3169   \n",
            "3  0.254628  ...  195.3171  0.0007 -0.0001  0.0007  195.3169   \n",
            "4  0.352978  ...   28.9036 -1.6036 -4.1476 -1.6036   33.8967   \n",
            "\n",
            "   mulliken_charge_AT1  atom_AT1     x_AT1     y_AT1     z_AT1  \n",
            "0            -0.535689         C -0.012698  1.085804  0.008001  \n",
            "1            -0.535689         C -0.012698  1.085804  0.008001  \n",
            "2            -0.535689         C -0.012698  1.085804  0.008001  \n",
            "3            -0.535689         C -0.012698  1.085804  0.008001  \n",
            "4             0.133922         H  1.011731  1.463751  0.000277  \n",
            "\n",
            "[5 rows x 40 columns]\n",
            "\n"
          ]
        }
      ],
      "source": [
        "print(df_final_train_test.head())\n"
      ]
    },
    {
      "cell_type": "code",
      "execution_count": 21,
      "metadata": {
        "id": "zSr8PsY0fAhE"
      },
      "outputs": [],
      "source": [
        "import pandas as pd\n",
        "import numpy as np\n",
        "\n",
        "# Select 6 random columns\n",
        "cols = df_final_train_test.sample(n=6, axis=1).columns\n",
        "\n",
        "# Replace 5% of the data in those columns with NaN\n",
        "for col in cols:\n",
        "    df_final_train_test.loc[df_final_train_test.sample(frac=0.05).index, col] = np.nan\n"
      ]
    },
    {
      "cell_type": "code",
      "execution_count": 22,
      "metadata": {
        "colab": {
          "base_uri": "https://localhost:8080/"
        },
        "id": "ZsICSvkLCrjR",
        "outputId": "df589d3a-eaf9-43ee-a836-0b7021ced492"
      },
      "outputs": [
        {
          "name": "stdout",
          "output_type": "stream",
          "text": [
            "scalar_coupling_constant    5.0%\n",
            "pso                         5.0%\n",
            "XY_AT0                      5.0%\n",
            "ZZ_AT1                      5.0%\n",
            "mulliken_charge_AT1         5.0%\n",
            "z_AT1                       5.0%\n",
            "dtype: object\n"
          ]
        }
      ],
      "source": [
        "# Calculate the percentage of missing values for each column\n",
        "missing_percentages = (df_final_train_test.isnull().sum() / len(df_final_train_test) * 100).round(0).astype(str) + '%'\n",
        "# Printing only the colums that have missing values\n",
        "print(missing_percentages[missing_percentages != '0.0%'])"
      ]
    },
    {
      "cell_type": "code",
      "execution_count": 23,
      "metadata": {
        "id": "7ilQ5uxJDyU0"
      },
      "outputs": [],
      "source": [
        "# Crear el objeto LabelEncoder\n",
        "encoder = ps.LabelEncoder()\n",
        "\n",
        "# Codificar las columnas no numéricas\n",
        "df_final_train_test['atom_AT1'] = encoder.fit_transform(df_final_train_test['atom_AT1'])\n",
        "df_final_train_test['type'] = encoder.fit_transform(df_final_train_test['type'])\n",
        "df_final_train_test['atom_AT0'] = encoder.fit_transform(df_final_train_test['atom_AT0'])\n"
      ]
    },
    {
      "cell_type": "code",
      "execution_count": 24,
      "metadata": {
        "id": "Z9rJgaVnGRbs"
      },
      "outputs": [],
      "source": [
        "#replace the missing values with the mean of the column\n",
        "df_final_train_test.fillna(df_final_train_test.mean(), inplace=True)"
      ]
    },
    {
      "cell_type": "code",
      "execution_count": 25,
      "metadata": {
        "id": "tWfeBhfXGZoy"
      },
      "outputs": [],
      "source": [
        "x=df_final_train_test.drop([\"scalar_coupling_constant\"],axis=1)\n",
        "y=df_final_train_test[\"scalar_coupling_constant\"].values"
      ]
    },
    {
      "cell_type": "code",
      "execution_count": 26,
      "metadata": {
        "colab": {
          "base_uri": "https://localhost:8080/"
        },
        "id": "UOddeI5PGoQ6",
        "outputId": "718090fb-066f-48a6-a1ff-8d637548baec"
      },
      "outputs": [
        {
          "name": "stdout",
          "output_type": "stream",
          "text": [
            "(7002, 39) (3002, 39)\n"
          ]
        }
      ],
      "source": [
        "X_train, X_test, y_train, y_test = train_test_split(x, y, test_size=0.3, random_state=42)\n",
        "scaler=StandardScaler()\n",
        "X_train=scaler.fit_transform(X_train)\n",
        "X_test=scaler.fit_transform(X_test)\n",
        "print (X_train.shape, X_test.shape)"
      ]
    },
    {
      "cell_type": "code",
      "execution_count": 27,
      "metadata": {
        "id": "XN5taWQzdon3"
      },
      "outputs": [],
      "source": [
        "#Creamos el df de resultados\n",
        "result_df = pd.DataFrame()"
      ]
    },
    {
      "cell_type": "markdown",
      "metadata": {},
      "source": [
        "**Modelos supervisados:**\n",
        "\n",
        "RandomForetsRegressor y un DecisionTreeRegresor.\n"
      ]
    },
    {
      "cell_type": "code",
      "execution_count": 28,
      "metadata": {
        "colab": {
          "base_uri": "https://localhost:8080/"
        },
        "id": "K0IQ_ACVEVj2",
        "outputId": "08746fc3-7915-4cff-a788-e929462fc55e"
      },
      "outputs": [
        {
          "name": "stdout",
          "output_type": "stream",
          "text": [
            "Mejores parámetros para DecisionTreeRegressor:  {'min_samples_split': 5, 'min_samples_leaf': 1, 'max_depth': 6}\n",
            "Mejores parámetros para RandomForestRegressor:  {'n_estimators': 21, 'min_samples_split': 5, 'min_samples_leaf': 2, 'max_depth': 6}\n"
          ]
        }
      ],
      "source": [
        "from sklearn.model_selection import GridSearchCV, RandomizedSearchCV\n",
        "from sklearn.ensemble import RandomForestRegressor\n",
        "from sklearn.tree import DecisionTreeRegressor\n",
        "\n",
        "# Definir los parámetros para el árbol de decisión\n",
        "parametros_dt = {'max_depth': list(range(1, 20, 5)), 'min_samples_split': [2,3,5], 'min_samples_leaf': [1,2,3]}\n",
        "\n",
        "# Definir los parámetros para el bosque aleatorio\n",
        "parametros_rf = {'n_estimators': list(range(1, 100, 20)), 'max_depth': list(range(1, 20, 5)), 'min_samples_split': [2,3,5],\n",
        "                 'min_samples_leaf': [1,2,3]}\n",
        "\n",
        "# Crear los modelos\n",
        "dt = DecisionTreeRegressor()\n",
        "rf = RandomForestRegressor()\n",
        "\n",
        "# Crear las búsquedas de cuadrícula\n",
        "grid_dt = RandomizedSearchCV(dt, parametros_dt,scoring = 'neg_mean_squared_error', cv=5,random_state=0)\n",
        "grid_rf = RandomizedSearchCV(rf, parametros_rf,scoring = 'neg_mean_squared_error',cv=5,random_state=0)\n",
        "\n",
        "# Ajustar los modelos\n",
        "grid_dt.fit(X_train, y_train)\n",
        "grid_rf.fit(X_train, y_train)\n",
        "\n",
        "# Imprimir los mejores parámetros\n",
        "\n",
        "print(\"Mejores parámetros para DecisionTreeRegressor: \", grid_dt.best_params_)\n",
        "print(\"Mejores parámetros para RandomForestRegressor: \", grid_rf.best_params_)"
      ]
    },
    {
      "cell_type": "code",
      "execution_count": 29,
      "metadata": {
        "colab": {
          "base_uri": "https://localhost:8080/",
          "height": 75
        },
        "id": "CczOMD_YWZOE",
        "outputId": "4693e73e-f9f3-406a-d76a-63ac98e13164"
      },
      "outputs": [
        {
          "data": {
            "text/html": [
              "<style>#sk-container-id-1 {color: black;background-color: white;}#sk-container-id-1 pre{padding: 0;}#sk-container-id-1 div.sk-toggleable {background-color: white;}#sk-container-id-1 label.sk-toggleable__label {cursor: pointer;display: block;width: 100%;margin-bottom: 0;padding: 0.3em;box-sizing: border-box;text-align: center;}#sk-container-id-1 label.sk-toggleable__label-arrow:before {content: \"▸\";float: left;margin-right: 0.25em;color: #696969;}#sk-container-id-1 label.sk-toggleable__label-arrow:hover:before {color: black;}#sk-container-id-1 div.sk-estimator:hover label.sk-toggleable__label-arrow:before {color: black;}#sk-container-id-1 div.sk-toggleable__content {max-height: 0;max-width: 0;overflow: hidden;text-align: left;background-color: #f0f8ff;}#sk-container-id-1 div.sk-toggleable__content pre {margin: 0.2em;color: black;border-radius: 0.25em;background-color: #f0f8ff;}#sk-container-id-1 input.sk-toggleable__control:checked~div.sk-toggleable__content {max-height: 200px;max-width: 100%;overflow: auto;}#sk-container-id-1 input.sk-toggleable__control:checked~label.sk-toggleable__label-arrow:before {content: \"▾\";}#sk-container-id-1 div.sk-estimator input.sk-toggleable__control:checked~label.sk-toggleable__label {background-color: #d4ebff;}#sk-container-id-1 div.sk-label input.sk-toggleable__control:checked~label.sk-toggleable__label {background-color: #d4ebff;}#sk-container-id-1 input.sk-hidden--visually {border: 0;clip: rect(1px 1px 1px 1px);clip: rect(1px, 1px, 1px, 1px);height: 1px;margin: -1px;overflow: hidden;padding: 0;position: absolute;width: 1px;}#sk-container-id-1 div.sk-estimator {font-family: monospace;background-color: #f0f8ff;border: 1px dotted black;border-radius: 0.25em;box-sizing: border-box;margin-bottom: 0.5em;}#sk-container-id-1 div.sk-estimator:hover {background-color: #d4ebff;}#sk-container-id-1 div.sk-parallel-item::after {content: \"\";width: 100%;border-bottom: 1px solid gray;flex-grow: 1;}#sk-container-id-1 div.sk-label:hover label.sk-toggleable__label {background-color: #d4ebff;}#sk-container-id-1 div.sk-serial::before {content: \"\";position: absolute;border-left: 1px solid gray;box-sizing: border-box;top: 0;bottom: 0;left: 50%;z-index: 0;}#sk-container-id-1 div.sk-serial {display: flex;flex-direction: column;align-items: center;background-color: white;padding-right: 0.2em;padding-left: 0.2em;position: relative;}#sk-container-id-1 div.sk-item {position: relative;z-index: 1;}#sk-container-id-1 div.sk-parallel {display: flex;align-items: stretch;justify-content: center;background-color: white;position: relative;}#sk-container-id-1 div.sk-item::before, #sk-container-id-1 div.sk-parallel-item::before {content: \"\";position: absolute;border-left: 1px solid gray;box-sizing: border-box;top: 0;bottom: 0;left: 50%;z-index: -1;}#sk-container-id-1 div.sk-parallel-item {display: flex;flex-direction: column;z-index: 1;position: relative;background-color: white;}#sk-container-id-1 div.sk-parallel-item:first-child::after {align-self: flex-end;width: 50%;}#sk-container-id-1 div.sk-parallel-item:last-child::after {align-self: flex-start;width: 50%;}#sk-container-id-1 div.sk-parallel-item:only-child::after {width: 0;}#sk-container-id-1 div.sk-dashed-wrapped {border: 1px dashed gray;margin: 0 0.4em 0.5em 0.4em;box-sizing: border-box;padding-bottom: 0.4em;background-color: white;}#sk-container-id-1 div.sk-label label {font-family: monospace;font-weight: bold;display: inline-block;line-height: 1.2em;}#sk-container-id-1 div.sk-label-container {text-align: center;}#sk-container-id-1 div.sk-container {/* jupyter's `normalize.less` sets `[hidden] { display: none; }` but bootstrap.min.css set `[hidden] { display: none !important; }` so we also need the `!important` here to be able to override the default hidden behavior on the sphinx rendered scikit-learn.org. See: https://github.com/scikit-learn/scikit-learn/issues/21755 */display: inline-block !important;position: relative;}#sk-container-id-1 div.sk-text-repr-fallback {display: none;}</style><div id=\"sk-container-id-1\" class=\"sk-top-container\"><div class=\"sk-text-repr-fallback\"><pre>DecisionTreeRegressor(max_depth=6, min_samples_split=5, random_state=0)</pre><b>In a Jupyter environment, please rerun this cell to show the HTML representation or trust the notebook. <br />On GitHub, the HTML representation is unable to render, please try loading this page with nbviewer.org.</b></div><div class=\"sk-container\" hidden><div class=\"sk-item\"><div class=\"sk-estimator sk-toggleable\"><input class=\"sk-toggleable__control sk-hidden--visually\" id=\"sk-estimator-id-1\" type=\"checkbox\" checked><label for=\"sk-estimator-id-1\" class=\"sk-toggleable__label sk-toggleable__label-arrow\">DecisionTreeRegressor</label><div class=\"sk-toggleable__content\"><pre>DecisionTreeRegressor(max_depth=6, min_samples_split=5, random_state=0)</pre></div></div></div></div></div>"
            ],
            "text/plain": [
              "DecisionTreeRegressor(max_depth=6, min_samples_split=5, random_state=0)"
            ]
          },
          "execution_count": 29,
          "metadata": {},
          "output_type": "execute_result"
        }
      ],
      "source": [
        "Rdm_forest = RandomForestRegressor(n_estimators =grid_rf.best_params_[\"n_estimators\"]\n",
        "                                   ,max_depth = grid_rf.best_params_[\"max_depth\"],\n",
        "                                   min_samples_leaf=grid_rf.best_params_[\"min_samples_leaf\"],\n",
        "                                   min_samples_split=grid_rf.best_params_[\"min_samples_split\"],\n",
        "                                   random_state=0)\n",
        "Rdm_forest.fit(X_train, y_train)\n",
        "\n",
        "DT_Regressor = DecisionTreeRegressor(\n",
        "                                   max_depth = grid_dt.best_params_[\"max_depth\"],\n",
        "                                   min_samples_leaf=grid_dt.best_params_[\"min_samples_leaf\"],\n",
        "                                   min_samples_split=grid_dt.best_params_[\"min_samples_split\"],\n",
        "                                   random_state=0)\n",
        "DT_Regressor.fit(X_train, y_train)"
      ]
    },
    {
      "cell_type": "code",
      "execution_count": 30,
      "metadata": {
        "colab": {
          "base_uri": "https://localhost:8080/"
        },
        "id": "Lm6aCCmydYU-",
        "outputId": "0ac556a2-794a-4779-9c79-a0124581535d"
      },
      "outputs": [
        {
          "name": "stderr",
          "output_type": "stream",
          "text": [
            "<ipython-input-30-892aa3f9ae6d>:3: FutureWarning: The frame.append method is deprecated and will be removed from pandas in a future version. Use pandas.concat instead.\n",
            "  result_df = result_df.append(result_rf, ignore_index=True)\n",
            "<ipython-input-30-892aa3f9ae6d>:4: FutureWarning: The frame.append method is deprecated and will be removed from pandas in a future version. Use pandas.concat instead.\n",
            "  result_df = result_df.append(result_dt, ignore_index=True)\n"
          ]
        }
      ],
      "source": [
        "result_rf = evaluador_modelos(\"RandomForestRegressor\", Rdm_forest, X_train, y_train, X_test, y_test)\n",
        "result_dt = evaluador_modelos(\"DecisionTreeRegressor\", DT_Regressor, X_train, y_train, X_test, y_test)\n",
        "result_df = result_df.append(result_rf, ignore_index=True)\n",
        "result_df = result_df.append(result_dt, ignore_index=True)"
      ]
    },
    {
      "cell_type": "markdown",
      "metadata": {},
      "source": [
        "**Modelos no supervisados + métodos supervisados:**\n",
        "Para los modelos no supervisados se optó por  usar algoritmos de kmeans, es decir uso de clusterings y PCA, estos se usaron como complemento para los modelos usados anteriormente;\n",
        " kmeans + DecisionTreeRegressor y PCA + RandomForestRegressor\n"
      ]
    },
    {
      "cell_type": "code",
      "execution_count": 31,
      "metadata": {
        "colab": {
          "base_uri": "https://localhost:8080/"
        },
        "id": "q8JAnJF_Rz2n",
        "outputId": "6e34b738-ea95-4dde-f4e7-76332434dd60"
      },
      "outputs": [
        {
          "name": "stdout",
          "output_type": "stream",
          "text": [
            "Mejores parámetros para KMeans + DecisionTreeRegressor:  {'kmeans__n_clusters': 4, 'dt__min_samples_split': 10, 'dt__min_samples_leaf': 4, 'dt__max_depth': 40}\n",
            "Mejores parámetros para PCA + RandomForestRegressor:  {'rf__n_estimators': 10, 'rf__min_samples_split': 10, 'rf__min_samples_leaf': 4, 'rf__max_depth': 20, 'pca__n_components': 8}\n"
          ]
        }
      ],
      "source": [
        "from sklearn.model_selection import RandomizedSearchCV\n",
        "from sklearn.ensemble import RandomForestRegressor\n",
        "from sklearn.tree import DecisionTreeRegressor\n",
        "from sklearn.cluster import KMeans\n",
        "from sklearn.decomposition import PCA\n",
        "from sklearn.pipeline import Pipeline\n",
        "\n",
        "# Definir los parámetros para KMeans + DecisionTreeRegressor\n",
        "parametros_kmeans_dt = {'kmeans__n_clusters': range(2, 10), 'dt__max_depth': list(range(20, 61, 20)),\n",
        "                        'dt__min_samples_split': [2, 5, 10], 'dt__min_samples_leaf': [1, 2, 4]}\n",
        "\n",
        "# Definir los parámetros para PCA + RandomForestRegressor\n",
        "parametros_pca_rf = {'pca__n_components': range(2, 10), 'rf__n_estimators': [10, 50, 100, 200],\n",
        "                     'rf__max_depth': list(range(20, 61, 20)), 'rf__min_samples_split': [2, 5, 10],\n",
        "                     'rf__min_samples_leaf': [1, 2, 4]}\n",
        "\n",
        "# Crear los pipelines\n",
        "pipeline_kmeans_dt = Pipeline([\n",
        "    (\"kmeans\", KMeans(n_init=10)),\n",
        "    (\"dt\", DecisionTreeRegressor())\n",
        "])\n",
        "\n",
        "pipeline_pca_rf = Pipeline([\n",
        "    (\"pca\", PCA()),\n",
        "    (\"rf\", RandomForestRegressor())\n",
        "])\n",
        "\n",
        "# Crear las búsquedas aleatorias\n",
        "random_kmeans_dt = RandomizedSearchCV(pipeline_kmeans_dt, parametros_kmeans_dt,\n",
        "                                      scoring='neg_mean_squared_error', cv=5, random_state=0)\n",
        "random_pca_rf = RandomizedSearchCV(pipeline_pca_rf, parametros_pca_rf,\n",
        "                                   scoring='neg_mean_squared_error', cv=5, random_state=0)\n",
        "\n",
        "# Ajustar los modelos\n",
        "random_kmeans_dt.fit(X_train, y_train)\n",
        "random_pca_rf.fit(X_train, y_train)\n",
        "\n",
        "# Imprimir los mejores parámetros\n",
        "print(\"Mejores parámetros para KMeans + DecisionTreeRegressor: \", random_kmeans_dt.best_params_)\n",
        "print(\"Mejores parámetros para PCA + RandomForestRegressor: \", random_pca_rf.best_params_)"
      ]
    },
    {
      "cell_type": "code",
      "execution_count": 32,
      "metadata": {
        "colab": {
          "base_uri": "https://localhost:8080/",
          "height": 147
        },
        "id": "5g8a04RDesMH",
        "outputId": "9e18b866-df58-4ff1-fbd1-6b7bd22ae6b8"
      },
      "outputs": [
        {
          "name": "stderr",
          "output_type": "stream",
          "text": [
            "/usr/local/lib/python3.10/dist-packages/sklearn/cluster/_kmeans.py:870: FutureWarning: The default value of `n_init` will change from 10 to 'auto' in 1.4. Set the value of `n_init` explicitly to suppress the warning\n",
            "  warnings.warn(\n"
          ]
        },
        {
          "data": {
            "text/html": [
              "<style>#sk-container-id-2 {color: black;background-color: white;}#sk-container-id-2 pre{padding: 0;}#sk-container-id-2 div.sk-toggleable {background-color: white;}#sk-container-id-2 label.sk-toggleable__label {cursor: pointer;display: block;width: 100%;margin-bottom: 0;padding: 0.3em;box-sizing: border-box;text-align: center;}#sk-container-id-2 label.sk-toggleable__label-arrow:before {content: \"▸\";float: left;margin-right: 0.25em;color: #696969;}#sk-container-id-2 label.sk-toggleable__label-arrow:hover:before {color: black;}#sk-container-id-2 div.sk-estimator:hover label.sk-toggleable__label-arrow:before {color: black;}#sk-container-id-2 div.sk-toggleable__content {max-height: 0;max-width: 0;overflow: hidden;text-align: left;background-color: #f0f8ff;}#sk-container-id-2 div.sk-toggleable__content pre {margin: 0.2em;color: black;border-radius: 0.25em;background-color: #f0f8ff;}#sk-container-id-2 input.sk-toggleable__control:checked~div.sk-toggleable__content {max-height: 200px;max-width: 100%;overflow: auto;}#sk-container-id-2 input.sk-toggleable__control:checked~label.sk-toggleable__label-arrow:before {content: \"▾\";}#sk-container-id-2 div.sk-estimator input.sk-toggleable__control:checked~label.sk-toggleable__label {background-color: #d4ebff;}#sk-container-id-2 div.sk-label input.sk-toggleable__control:checked~label.sk-toggleable__label {background-color: #d4ebff;}#sk-container-id-2 input.sk-hidden--visually {border: 0;clip: rect(1px 1px 1px 1px);clip: rect(1px, 1px, 1px, 1px);height: 1px;margin: -1px;overflow: hidden;padding: 0;position: absolute;width: 1px;}#sk-container-id-2 div.sk-estimator {font-family: monospace;background-color: #f0f8ff;border: 1px dotted black;border-radius: 0.25em;box-sizing: border-box;margin-bottom: 0.5em;}#sk-container-id-2 div.sk-estimator:hover {background-color: #d4ebff;}#sk-container-id-2 div.sk-parallel-item::after {content: \"\";width: 100%;border-bottom: 1px solid gray;flex-grow: 1;}#sk-container-id-2 div.sk-label:hover label.sk-toggleable__label {background-color: #d4ebff;}#sk-container-id-2 div.sk-serial::before {content: \"\";position: absolute;border-left: 1px solid gray;box-sizing: border-box;top: 0;bottom: 0;left: 50%;z-index: 0;}#sk-container-id-2 div.sk-serial {display: flex;flex-direction: column;align-items: center;background-color: white;padding-right: 0.2em;padding-left: 0.2em;position: relative;}#sk-container-id-2 div.sk-item {position: relative;z-index: 1;}#sk-container-id-2 div.sk-parallel {display: flex;align-items: stretch;justify-content: center;background-color: white;position: relative;}#sk-container-id-2 div.sk-item::before, #sk-container-id-2 div.sk-parallel-item::before {content: \"\";position: absolute;border-left: 1px solid gray;box-sizing: border-box;top: 0;bottom: 0;left: 50%;z-index: -1;}#sk-container-id-2 div.sk-parallel-item {display: flex;flex-direction: column;z-index: 1;position: relative;background-color: white;}#sk-container-id-2 div.sk-parallel-item:first-child::after {align-self: flex-end;width: 50%;}#sk-container-id-2 div.sk-parallel-item:last-child::after {align-self: flex-start;width: 50%;}#sk-container-id-2 div.sk-parallel-item:only-child::after {width: 0;}#sk-container-id-2 div.sk-dashed-wrapped {border: 1px dashed gray;margin: 0 0.4em 0.5em 0.4em;box-sizing: border-box;padding-bottom: 0.4em;background-color: white;}#sk-container-id-2 div.sk-label label {font-family: monospace;font-weight: bold;display: inline-block;line-height: 1.2em;}#sk-container-id-2 div.sk-label-container {text-align: center;}#sk-container-id-2 div.sk-container {/* jupyter's `normalize.less` sets `[hidden] { display: none; }` but bootstrap.min.css set `[hidden] { display: none !important; }` so we also need the `!important` here to be able to override the default hidden behavior on the sphinx rendered scikit-learn.org. See: https://github.com/scikit-learn/scikit-learn/issues/21755 */display: inline-block !important;position: relative;}#sk-container-id-2 div.sk-text-repr-fallback {display: none;}</style><div id=\"sk-container-id-2\" class=\"sk-top-container\"><div class=\"sk-text-repr-fallback\"><pre>RandomForestRegressor(max_depth=20, min_samples_leaf=4, min_samples_split=10,\n",
              "                      n_estimators=10)</pre><b>In a Jupyter environment, please rerun this cell to show the HTML representation or trust the notebook. <br />On GitHub, the HTML representation is unable to render, please try loading this page with nbviewer.org.</b></div><div class=\"sk-container\" hidden><div class=\"sk-item\"><div class=\"sk-estimator sk-toggleable\"><input class=\"sk-toggleable__control sk-hidden--visually\" id=\"sk-estimator-id-2\" type=\"checkbox\" checked><label for=\"sk-estimator-id-2\" class=\"sk-toggleable__label sk-toggleable__label-arrow\">RandomForestRegressor</label><div class=\"sk-toggleable__content\"><pre>RandomForestRegressor(max_depth=20, min_samples_leaf=4, min_samples_split=10,\n",
              "                      n_estimators=10)</pre></div></div></div></div></div>"
            ],
            "text/plain": [
              "RandomForestRegressor(max_depth=20, min_samples_leaf=4, min_samples_split=10,\n",
              "                      n_estimators=10)"
            ]
          },
          "execution_count": 32,
          "metadata": {},
          "output_type": "execute_result"
        }
      ],
      "source": [
        "# Obtener los mejores parámetros\n",
        "mejores_parametros_kmeans_dt = random_kmeans_dt.best_params_\n",
        "mejores_parametros_pca_rf = random_pca_rf.best_params_\n",
        "\n",
        "# Crear nuevos modelos con los mejores parámetros\n",
        "mejor_kmeans = KMeans(n_clusters=mejores_parametros_kmeans_dt['kmeans__n_clusters'])\n",
        "mejor_dt = DecisionTreeRegressor(max_depth=mejores_parametros_kmeans_dt['dt__max_depth'],\n",
        "                                 min_samples_split=mejores_parametros_kmeans_dt['dt__min_samples_split'],\n",
        "                                 min_samples_leaf=mejores_parametros_kmeans_dt['dt__min_samples_leaf'])\n",
        "\n",
        "mejor_pca = PCA(n_components=mejores_parametros_pca_rf['pca__n_components'])\n",
        "mejor_rf = RandomForestRegressor(n_estimators=mejores_parametros_pca_rf['rf__n_estimators'],\n",
        "                                 max_depth=mejores_parametros_pca_rf['rf__max_depth'],\n",
        "                                 min_samples_split=mejores_parametros_pca_rf['rf__min_samples_split'],\n",
        "                                 min_samples_leaf=mejores_parametros_pca_rf['rf__min_samples_leaf'])\n",
        "\n",
        "# Ajustar los modelos\n",
        "X_train_kmeans = mejor_kmeans.fit_transform(X_train)\n",
        "mejor_dt.fit(X_train_kmeans, y_train)\n",
        "\n",
        "X_train_pca = mejor_pca.fit_transform(X_train)\n",
        "mejor_rf.fit(X_train_pca, y_train)"
      ]
    },
    {
      "cell_type": "code",
      "execution_count": 33,
      "metadata": {
        "colab": {
          "base_uri": "https://localhost:8080/"
        },
        "id": "yH6q_vHve8aN",
        "outputId": "f78339b5-8ae2-4329-8559-a7d243c12090"
      },
      "outputs": [
        {
          "name": "stderr",
          "output_type": "stream",
          "text": [
            "<ipython-input-33-d392f94b6aa4>:8: FutureWarning: The frame.append method is deprecated and will be removed from pandas in a future version. Use pandas.concat instead.\n",
            "  result_df = result_df.append(resultados_rf_pca, ignore_index=True)\n",
            "<ipython-input-33-d392f94b6aa4>:9: FutureWarning: The frame.append method is deprecated and will be removed from pandas in a future version. Use pandas.concat instead.\n",
            "  result_df = result_df.append(resultados_dt_km, ignore_index=True)\n"
          ]
        }
      ],
      "source": [
        "\n",
        "\n",
        "# Evaluar el modelo DecisionTreeRegressor + Kmeans\n",
        "resultados_dt_km = evaluador_modelos(\"DecisionTreeRegressor + Kmeans\", mejor_dt, X_train_kmeans, y_train, mejor_kmeans.transform(X_test), y_test)\n",
        "\n",
        "# Evaluar el modelo RandomForestRegressor + PCA\n",
        "resultados_rf_pca = evaluador_modelos(\"RandomForestRegressor + PCA\", mejor_rf, X_train_pca, y_train, mejor_pca.transform(X_test), y_test)\n",
        "\n",
        "# Agregar los resultados al DataFrame existente\n",
        "result_df = result_df.append(resultados_rf_pca, ignore_index=True)\n",
        "result_df = result_df.append(resultados_dt_km, ignore_index=True)"
      ]
    },
    {
      "cell_type": "markdown",
      "metadata": {},
      "source": [
        "**Resultados:** "
      ]
    },
    {
      "cell_type": "code",
      "execution_count": 34,
      "metadata": {
        "colab": {
          "base_uri": "https://localhost:8080/",
          "height": 175
        },
        "id": "mlaCr5bzfVCe",
        "outputId": "5e1a5a4e-29d4-47c9-caf8-4656c5713716"
      },
      "outputs": [
        {
          "data": {
            "text/html": [
              "\n",
              "  <div id=\"df-f66bd76c-c47d-4f95-8c8f-3d85aeba2360\" class=\"colab-df-container\">\n",
              "    <div>\n",
              "<style scoped>\n",
              "    .dataframe tbody tr th:only-of-type {\n",
              "        vertical-align: middle;\n",
              "    }\n",
              "\n",
              "    .dataframe tbody tr th {\n",
              "        vertical-align: top;\n",
              "    }\n",
              "\n",
              "    .dataframe thead th {\n",
              "        text-align: right;\n",
              "    }\n",
              "</style>\n",
              "<table border=\"1\" class=\"dataframe\">\n",
              "  <thead>\n",
              "    <tr style=\"text-align: right;\">\n",
              "      <th></th>\n",
              "      <th>Model</th>\n",
              "      <th>MAE</th>\n",
              "      <th>MSE</th>\n",
              "      <th>RMSE</th>\n",
              "      <th>R2 Score</th>\n",
              "      <th>MAE Ratio</th>\n",
              "      <th>RMSE Ratio</th>\n",
              "    </tr>\n",
              "  </thead>\n",
              "  <tbody>\n",
              "    <tr>\n",
              "      <th>0</th>\n",
              "      <td>RandomForestRegressor</td>\n",
              "      <td>2.214607</td>\n",
              "      <td>56.273937</td>\n",
              "      <td>7.501596</td>\n",
              "      <td>0.957326</td>\n",
              "      <td>0.122195</td>\n",
              "      <td>0.413915</td>\n",
              "    </tr>\n",
              "    <tr>\n",
              "      <th>1</th>\n",
              "      <td>DecisionTreeRegressor</td>\n",
              "      <td>2.470615</td>\n",
              "      <td>64.156605</td>\n",
              "      <td>8.009782</td>\n",
              "      <td>0.951348</td>\n",
              "      <td>0.136321</td>\n",
              "      <td>0.441955</td>\n",
              "    </tr>\n",
              "    <tr>\n",
              "      <th>2</th>\n",
              "      <td>RandomForestRegressor + PCA</td>\n",
              "      <td>6.868078</td>\n",
              "      <td>169.727112</td>\n",
              "      <td>13.027936</td>\n",
              "      <td>0.871292</td>\n",
              "      <td>0.378959</td>\n",
              "      <td>0.718841</td>\n",
              "    </tr>\n",
              "    <tr>\n",
              "      <th>3</th>\n",
              "      <td>DecisionTreeRegressor + Kmeans</td>\n",
              "      <td>6.322123</td>\n",
              "      <td>158.750003</td>\n",
              "      <td>12.599603</td>\n",
              "      <td>0.879616</td>\n",
              "      <td>0.348835</td>\n",
              "      <td>0.695207</td>\n",
              "    </tr>\n",
              "  </tbody>\n",
              "</table>\n",
              "</div>\n",
              "    <div class=\"colab-df-buttons\">\n",
              "\n",
              "  <div class=\"colab-df-container\">\n",
              "    <button class=\"colab-df-convert\" onclick=\"convertToInteractive('df-f66bd76c-c47d-4f95-8c8f-3d85aeba2360')\"\n",
              "            title=\"Convert this dataframe to an interactive table.\"\n",
              "            style=\"display:none;\">\n",
              "\n",
              "  <svg xmlns=\"http://www.w3.org/2000/svg\" height=\"24px\" viewBox=\"0 -960 960 960\">\n",
              "    <path d=\"M120-120v-720h720v720H120Zm60-500h600v-160H180v160Zm220 220h160v-160H400v160Zm0 220h160v-160H400v160ZM180-400h160v-160H180v160Zm440 0h160v-160H620v160ZM180-180h160v-160H180v160Zm440 0h160v-160H620v160Z\"/>\n",
              "  </svg>\n",
              "    </button>\n",
              "\n",
              "  <style>\n",
              "    .colab-df-container {\n",
              "      display:flex;\n",
              "      gap: 12px;\n",
              "    }\n",
              "\n",
              "    .colab-df-convert {\n",
              "      background-color: #E8F0FE;\n",
              "      border: none;\n",
              "      border-radius: 50%;\n",
              "      cursor: pointer;\n",
              "      display: none;\n",
              "      fill: #1967D2;\n",
              "      height: 32px;\n",
              "      padding: 0 0 0 0;\n",
              "      width: 32px;\n",
              "    }\n",
              "\n",
              "    .colab-df-convert:hover {\n",
              "      background-color: #E2EBFA;\n",
              "      box-shadow: 0px 1px 2px rgba(60, 64, 67, 0.3), 0px 1px 3px 1px rgba(60, 64, 67, 0.15);\n",
              "      fill: #174EA6;\n",
              "    }\n",
              "\n",
              "    .colab-df-buttons div {\n",
              "      margin-bottom: 4px;\n",
              "    }\n",
              "\n",
              "    [theme=dark] .colab-df-convert {\n",
              "      background-color: #3B4455;\n",
              "      fill: #D2E3FC;\n",
              "    }\n",
              "\n",
              "    [theme=dark] .colab-df-convert:hover {\n",
              "      background-color: #434B5C;\n",
              "      box-shadow: 0px 1px 3px 1px rgba(0, 0, 0, 0.15);\n",
              "      filter: drop-shadow(0px 1px 2px rgba(0, 0, 0, 0.3));\n",
              "      fill: #FFFFFF;\n",
              "    }\n",
              "  </style>\n",
              "\n",
              "    <script>\n",
              "      const buttonEl =\n",
              "        document.querySelector('#df-f66bd76c-c47d-4f95-8c8f-3d85aeba2360 button.colab-df-convert');\n",
              "      buttonEl.style.display =\n",
              "        google.colab.kernel.accessAllowed ? 'block' : 'none';\n",
              "\n",
              "      async function convertToInteractive(key) {\n",
              "        const element = document.querySelector('#df-f66bd76c-c47d-4f95-8c8f-3d85aeba2360');\n",
              "        const dataTable =\n",
              "          await google.colab.kernel.invokeFunction('convertToInteractive',\n",
              "                                                    [key], {});\n",
              "        if (!dataTable) return;\n",
              "\n",
              "        const docLinkHtml = 'Like what you see? Visit the ' +\n",
              "          '<a target=\"_blank\" href=https://colab.research.google.com/notebooks/data_table.ipynb>data table notebook</a>'\n",
              "          + ' to learn more about interactive tables.';\n",
              "        element.innerHTML = '';\n",
              "        dataTable['output_type'] = 'display_data';\n",
              "        await google.colab.output.renderOutput(dataTable, element);\n",
              "        const docLink = document.createElement('div');\n",
              "        docLink.innerHTML = docLinkHtml;\n",
              "        element.appendChild(docLink);\n",
              "      }\n",
              "    </script>\n",
              "  </div>\n",
              "\n",
              "\n",
              "<div id=\"df-8bb18561-8eba-44b3-938a-a2ee5253cda4\">\n",
              "  <button class=\"colab-df-quickchart\" onclick=\"quickchart('df-8bb18561-8eba-44b3-938a-a2ee5253cda4')\"\n",
              "            title=\"Suggest charts\"\n",
              "            style=\"display:none;\">\n",
              "\n",
              "<svg xmlns=\"http://www.w3.org/2000/svg\" height=\"24px\"viewBox=\"0 0 24 24\"\n",
              "     width=\"24px\">\n",
              "    <g>\n",
              "        <path d=\"M19 3H5c-1.1 0-2 .9-2 2v14c0 1.1.9 2 2 2h14c1.1 0 2-.9 2-2V5c0-1.1-.9-2-2-2zM9 17H7v-7h2v7zm4 0h-2V7h2v10zm4 0h-2v-4h2v4z\"/>\n",
              "    </g>\n",
              "</svg>\n",
              "  </button>\n",
              "\n",
              "<style>\n",
              "  .colab-df-quickchart {\n",
              "      --bg-color: #E8F0FE;\n",
              "      --fill-color: #1967D2;\n",
              "      --hover-bg-color: #E2EBFA;\n",
              "      --hover-fill-color: #174EA6;\n",
              "      --disabled-fill-color: #AAA;\n",
              "      --disabled-bg-color: #DDD;\n",
              "  }\n",
              "\n",
              "  [theme=dark] .colab-df-quickchart {\n",
              "      --bg-color: #3B4455;\n",
              "      --fill-color: #D2E3FC;\n",
              "      --hover-bg-color: #434B5C;\n",
              "      --hover-fill-color: #FFFFFF;\n",
              "      --disabled-bg-color: #3B4455;\n",
              "      --disabled-fill-color: #666;\n",
              "  }\n",
              "\n",
              "  .colab-df-quickchart {\n",
              "    background-color: var(--bg-color);\n",
              "    border: none;\n",
              "    border-radius: 50%;\n",
              "    cursor: pointer;\n",
              "    display: none;\n",
              "    fill: var(--fill-color);\n",
              "    height: 32px;\n",
              "    padding: 0;\n",
              "    width: 32px;\n",
              "  }\n",
              "\n",
              "  .colab-df-quickchart:hover {\n",
              "    background-color: var(--hover-bg-color);\n",
              "    box-shadow: 0 1px 2px rgba(60, 64, 67, 0.3), 0 1px 3px 1px rgba(60, 64, 67, 0.15);\n",
              "    fill: var(--button-hover-fill-color);\n",
              "  }\n",
              "\n",
              "  .colab-df-quickchart-complete:disabled,\n",
              "  .colab-df-quickchart-complete:disabled:hover {\n",
              "    background-color: var(--disabled-bg-color);\n",
              "    fill: var(--disabled-fill-color);\n",
              "    box-shadow: none;\n",
              "  }\n",
              "\n",
              "  .colab-df-spinner {\n",
              "    border: 2px solid var(--fill-color);\n",
              "    border-color: transparent;\n",
              "    border-bottom-color: var(--fill-color);\n",
              "    animation:\n",
              "      spin 1s steps(1) infinite;\n",
              "  }\n",
              "\n",
              "  @keyframes spin {\n",
              "    0% {\n",
              "      border-color: transparent;\n",
              "      border-bottom-color: var(--fill-color);\n",
              "      border-left-color: var(--fill-color);\n",
              "    }\n",
              "    20% {\n",
              "      border-color: transparent;\n",
              "      border-left-color: var(--fill-color);\n",
              "      border-top-color: var(--fill-color);\n",
              "    }\n",
              "    30% {\n",
              "      border-color: transparent;\n",
              "      border-left-color: var(--fill-color);\n",
              "      border-top-color: var(--fill-color);\n",
              "      border-right-color: var(--fill-color);\n",
              "    }\n",
              "    40% {\n",
              "      border-color: transparent;\n",
              "      border-right-color: var(--fill-color);\n",
              "      border-top-color: var(--fill-color);\n",
              "    }\n",
              "    60% {\n",
              "      border-color: transparent;\n",
              "      border-right-color: var(--fill-color);\n",
              "    }\n",
              "    80% {\n",
              "      border-color: transparent;\n",
              "      border-right-color: var(--fill-color);\n",
              "      border-bottom-color: var(--fill-color);\n",
              "    }\n",
              "    90% {\n",
              "      border-color: transparent;\n",
              "      border-bottom-color: var(--fill-color);\n",
              "    }\n",
              "  }\n",
              "</style>\n",
              "\n",
              "  <script>\n",
              "    async function quickchart(key) {\n",
              "      const quickchartButtonEl =\n",
              "        document.querySelector('#' + key + ' button');\n",
              "      quickchartButtonEl.disabled = true;  // To prevent multiple clicks.\n",
              "      quickchartButtonEl.classList.add('colab-df-spinner');\n",
              "      try {\n",
              "        const charts = await google.colab.kernel.invokeFunction(\n",
              "            'suggestCharts', [key], {});\n",
              "      } catch (error) {\n",
              "        console.error('Error during call to suggestCharts:', error);\n",
              "      }\n",
              "      quickchartButtonEl.classList.remove('colab-df-spinner');\n",
              "      quickchartButtonEl.classList.add('colab-df-quickchart-complete');\n",
              "    }\n",
              "    (() => {\n",
              "      let quickchartButtonEl =\n",
              "        document.querySelector('#df-8bb18561-8eba-44b3-938a-a2ee5253cda4 button');\n",
              "      quickchartButtonEl.style.display =\n",
              "        google.colab.kernel.accessAllowed ? 'block' : 'none';\n",
              "    })();\n",
              "  </script>\n",
              "</div>\n",
              "    </div>\n",
              "  </div>\n"
            ],
            "text/plain": [
              "                            Model       MAE         MSE       RMSE  R2 Score  \\\n",
              "0           RandomForestRegressor  2.214607   56.273937   7.501596  0.957326   \n",
              "1           DecisionTreeRegressor  2.470615   64.156605   8.009782  0.951348   \n",
              "2     RandomForestRegressor + PCA  6.868078  169.727112  13.027936  0.871292   \n",
              "3  DecisionTreeRegressor + Kmeans  6.322123  158.750003  12.599603  0.879616   \n",
              "\n",
              "   MAE Ratio  RMSE Ratio  \n",
              "0   0.122195    0.413915  \n",
              "1   0.136321    0.441955  \n",
              "2   0.378959    0.718841  \n",
              "3   0.348835    0.695207  "
            ]
          },
          "execution_count": 34,
          "metadata": {},
          "output_type": "execute_result"
        }
      ],
      "source": [
        "result_df"
      ]
    },
    {
      "cell_type": "markdown",
      "metadata": {},
      "source": [
        "**Curvas de aprendizaje:**"
      ]
    },
    {
      "cell_type": "code",
      "execution_count": 35,
      "metadata": {
        "id": "qgg6Zkk8fhzX"
      },
      "outputs": [],
      "source": [
        "import numpy as np\n",
        "import matplotlib.pyplot as plt\n",
        "from sklearn.model_selection import learning_curve\n",
        "\n",
        "def plot_learning_curve(estimator, title, X, y, axes=None, ylim=None, cv=5, n_jobs=10, train_sizes=np.linspace(.1, 1.0, 5)):\n",
        "    if axes is None:\n",
        "        _, axes = plt.subplots()\n",
        "\n",
        "    axes.set_title(title)\n",
        "    if ylim is not None:\n",
        "        axes[0].set_ylim(*ylim)\n",
        "    axes.set_xlabel(\"Training examples\")\n",
        "    axes.set_ylabel(\"Score\")\n",
        "\n",
        "    train_sizes, train_scores, test_scores, fit_times, _ = learning_curve(estimator, X, y, cv=cv, n_jobs=n_jobs, train_sizes=train_sizes, return_times=True)\n",
        "\n",
        "    train_scores_mean = np.mean(train_scores, axis=1)\n",
        "    train_scores_std = np.std(train_scores, axis=1)\n",
        "    test_scores_mean = np.mean(test_scores, axis=1)\n",
        "    test_scores_std = np.std(test_scores, axis=1)\n",
        "    fit_times_mean = np.mean(fit_times, axis=1)\n",
        "    fit_times_std = np.std(fit_times, axis=1)\n",
        "\n",
        "    # Plot learning curve\n",
        "    axes.grid()\n",
        "    axes.fill_between(train_sizes, train_scores_mean - train_scores_std, train_scores_mean + train_scores_std, alpha=0.1, color=\"r\")\n",
        "    axes.fill_between(train_sizes, test_scores_mean - test_scores_std, test_scores_mean + test_scores_std, alpha=0.1, color=\"g\")\n",
        "    axes.plot(train_sizes, train_scores_mean, 'o-', color=\"r\", label=\"Training score\")\n",
        "    axes.plot(train_sizes, test_scores_mean, 'o-', color=\"g\", label=\"Cross-validation score\")\n",
        "    axes.legend(loc=\"best\")\n",
        "\n",
        "    return plt\n",
        "\n",
        "\n",
        "\n"
      ]
    },
    {
      "cell_type": "code",
      "execution_count": 36,
      "metadata": {
        "colab": {
          "base_uri": "https://localhost:8080/",
          "height": 489
        },
        "id": "0PJC4R-XmS6C",
        "outputId": "f31528fe-8a2c-4809-b176-9ff80c1e5939"
      },
      "outputs": [
        {
          "data": {
            "text/plain": [
              "<module 'matplotlib.pyplot' from '/usr/local/lib/python3.10/dist-packages/matplotlib/pyplot.py'>"
            ]
          },
          "execution_count": 36,
          "metadata": {},
          "output_type": "execute_result"
        },
        {
          "data": {
            "image/png": "[encoded data removed]",
            "text/plain": [
              "<Figure size 640x480 with 1 Axes>"
            ]
          },
          "metadata": {},
          "output_type": "display_data"
        }
      ],
      "source": [
        "X, y = X_train, y_train\n",
        "title = \"Learning Curves (DecisionTreeRegressor)\"\n",
        "plot_learning_curve(DT_Regressor, title, X, y, cv=5)"
      ]
    },
    {
      "cell_type": "code",
      "execution_count": 37,
      "metadata": {
        "colab": {
          "base_uri": "https://localhost:8080/",
          "height": 489
        },
        "id": "vTWibS13ldvK",
        "outputId": "38144248-0386-46cf-dee1-ae429d3d33a2"
      },
      "outputs": [
        {
          "data": {
            "text/plain": [
              "<module 'matplotlib.pyplot' from '/usr/local/lib/python3.10/dist-packages/matplotlib/pyplot.py'>"
            ]
          },
          "execution_count": 37,
          "metadata": {},
          "output_type": "execute_result"
        },
        {
          "data": {
            "image/png": "[encoded data removed]",
            "text/plain": [
              "<Figure size 640x480 with 1 Axes>"
            ]
          },
          "metadata": {},
          "output_type": "display_data"
        }
      ],
      "source": [
        "\n",
        "title = \"Learning Curves (RandomForestRegressor)\"\n",
        "plot_learning_curve(Rdm_forest, title, X, y, cv=5)\n"
      ]
    },
    {
      "cell_type": "code",
      "execution_count": 38,
      "metadata": {
        "colab": {
          "base_uri": "https://localhost:8080/",
          "height": 489
        },
        "id": "tlmOeE_bmMl3",
        "outputId": "45f9a439-822c-40ad-da9c-2dc82b76aea8"
      },
      "outputs": [
        {
          "data": {
            "text/plain": [
              "<module 'matplotlib.pyplot' from '/usr/local/lib/python3.10/dist-packages/matplotlib/pyplot.py'>"
            ]
          },
          "execution_count": 38,
          "metadata": {},
          "output_type": "execute_result"
        },
        {
          "data": {
            "image/png": "[encoded data removed]",
            "text/plain": [
              "<Figure size 640x480 with 1 Axes>"
            ]
          },
          "metadata": {},
          "output_type": "display_data"
        }
      ],
      "source": [
        "X, y = X_train_kmeans, y_train\n",
        "title = \"Learning Curves (DecisionTreeRegressor + Kmeans)\"\n",
        "plot_learning_curve(mejor_dt, title, X, y, cv=5)\n",
        "\n"
      ]
    },
    {
      "cell_type": "code",
      "execution_count": 39,
      "metadata": {
        "colab": {
          "base_uri": "https://localhost:8080/",
          "height": 489
        },
        "id": "ON4qONNumOY3",
        "outputId": "9b4e6441-648a-467f-e089-5adb2875b300"
      },
      "outputs": [
        {
          "data": {
            "text/plain": [
              "<module 'matplotlib.pyplot' from '/usr/local/lib/python3.10/dist-packages/matplotlib/pyplot.py'>"
            ]
          },
          "execution_count": 39,
          "metadata": {},
          "output_type": "execute_result"
        },
        {
          "data": {
            "image/png": "[encoded data removed]",
            "text/plain": [
              "<Figure size 640x480 with 1 Axes>"
            ]
          },
          "metadata": {},
          "output_type": "display_data"
        }
      ],
      "source": [
        "X, y = X_train_pca, y_train\n",
        "title = \"Learning Curves (RandomForestRegressor + PCA)\"\n",
        "plot_learning_curve(mejor_rf, title, X, y, cv=5)"
      ]
    }
  ],
  "metadata": {
    "colab": {
      "provenance": []
    },
    "kernelspec": {
      "display_name": "Python 3",
      "name": "python3"
    },
    "language_info": {
      "name": "python"
    }
  },
  "nbformat": 4,
  "nbformat_minor": 0
}
