{
  "nbformat": 4,
  "nbformat_minor": 0,
  "metadata": {
    "colab": {
      "provenance": []
    },
    "kernelspec": {
      "name": "python3",
      "display_name": "Python 3"
    },
    "language_info": {
      "name": "python"
    }
  },
  "cells": [
    {
      "cell_type": "code",
      "execution_count": 1,
      "metadata": {
        "colab": {
          "base_uri": "https://localhost:8080/"
        },
        "id": "2HM6JPc76Z6F",
        "outputId": "d0929078-0e27-4ac6-a3c8-4c9ec5128e3d"
      },
      "outputs": [
        {
          "output_type": "stream",
          "name": "stdout",
          "text": [
            "Mounted at /content/drive\n"
          ]
        }
      ],
      "source": [
        "from google.colab import drive\n",
        "drive.mount('/content/drive')"
      ]
    },
    {
      "cell_type": "code",
      "source": [
        "!pip install -U -q kaggle"
      ],
      "metadata": {
        "id": "GvM2_LpH6nAI"
      },
      "execution_count": 2,
      "outputs": []
    },
    {
      "cell_type": "code",
      "source": [
        "!mkdir -p ~/.kaggle"
      ],
      "metadata": {
        "id": "j614rQPh6qMx"
      },
      "execution_count": 3,
      "outputs": []
    },
    {
      "cell_type": "code",
      "source": [
        "from google.colab import files"
      ],
      "metadata": {
        "id": "zIZZMQ3_6wow"
      },
      "execution_count": 4,
      "outputs": []
    },
    {
      "cell_type": "code",
      "source": [
        "files\n",
        "files.upload()"
      ],
      "metadata": {
        "colab": {
          "base_uri": "https://localhost:8080/",
          "height": 91
        },
        "id": "B6E9oOlE60RT",
        "outputId": "7bf2cd1d-20cc-4b8b-e923-b23f9599d77c"
      },
      "execution_count": 5,
      "outputs": [
        {
          "output_type": "display_data",
          "data": {
            "text/plain": [
              "<IPython.core.display.HTML object>"
            ],
            "text/html": [
              "\n",
              "     <input type=\"file\" id=\"files-9930ec49-4938-4ae7-9706-ad6fdb763e30\" name=\"files[]\" multiple disabled\n",
              "        style=\"border:none\" />\n",
              "     <output id=\"result-9930ec49-4938-4ae7-9706-ad6fdb763e30\">\n",
              "      Upload widget is only available when the cell has been executed in the\n",
              "      current browser session. Please rerun this cell to enable.\n",
              "      </output>\n",
              "      <script>// Copyright 2017 Google LLC\n",
              "//\n",
              "// Licensed under the Apache License, Version 2.0 (the \"License\");\n",
              "// you may not use this file except in compliance with the License.\n",
              "// You may obtain a copy of the License at\n",
              "//\n",
              "//      http://www.apache.org/licenses/LICENSE-2.0\n",
              "//\n",
              "// Unless required by applicable law or agreed to in writing, software\n",
              "// distributed under the License is distributed on an \"AS IS\" BASIS,\n",
              "// WITHOUT WARRANTIES OR CONDITIONS OF ANY KIND, either express or implied.\n",
              "// See the License for the specific language governing permissions and\n",
              "// limitations under the License.\n",
              "\n",
              "/**\n",
              " * @fileoverview Helpers for google.colab Python module.\n",
              " */\n",
              "(function(scope) {\n",
              "function span(text, styleAttributes = {}) {\n",
              "  const element = document.createElement('span');\n",
              "  element.textContent = text;\n",
              "  for (const key of Object.keys(styleAttributes)) {\n",
              "    element.style[key] = styleAttributes[key];\n",
              "  }\n",
              "  return element;\n",
              "}\n",
              "\n",
              "// Max number of bytes which will be uploaded at a time.\n",
              "const MAX_PAYLOAD_SIZE = 100 * 1024;\n",
              "\n",
              "function _uploadFiles(inputId, outputId) {\n",
              "  const steps = uploadFilesStep(inputId, outputId);\n",
              "  const outputElement = document.getElementById(outputId);\n",
              "  // Cache steps on the outputElement to make it available for the next call\n",
              "  // to uploadFilesContinue from Python.\n",
              "  outputElement.steps = steps;\n",
              "\n",
              "  return _uploadFilesContinue(outputId);\n",
              "}\n",
              "\n",
              "// This is roughly an async generator (not supported in the browser yet),\n",
              "// where there are multiple asynchronous steps and the Python side is going\n",
              "// to poll for completion of each step.\n",
              "// This uses a Promise to block the python side on completion of each step,\n",
              "// then passes the result of the previous step as the input to the next step.\n",
              "function _uploadFilesContinue(outputId) {\n",
              "  const outputElement = document.getElementById(outputId);\n",
              "  const steps = outputElement.steps;\n",
              "\n",
              "  const next = steps.next(outputElement.lastPromiseValue);\n",
              "  return Promise.resolve(next.value.promise).then((value) => {\n",
              "    // Cache the last promise value to make it available to the next\n",
              "    // step of the generator.\n",
              "    outputElement.lastPromiseValue = value;\n",
              "    return next.value.response;\n",
              "  });\n",
              "}\n",
              "\n",
              "/**\n",
              " * Generator function which is called between each async step of the upload\n",
              " * process.\n",
              " * @param {string} inputId Element ID of the input file picker element.\n",
              " * @param {string} outputId Element ID of the output display.\n",
              " * @return {!Iterable<!Object>} Iterable of next steps.\n",
              " */\n",
              "function* uploadFilesStep(inputId, outputId) {\n",
              "  const inputElement = document.getElementById(inputId);\n",
              "  inputElement.disabled = false;\n",
              "\n",
              "  const outputElement = document.getElementById(outputId);\n",
              "  outputElement.innerHTML = '';\n",
              "\n",
              "  const pickedPromise = new Promise((resolve) => {\n",
              "    inputElement.addEventListener('change', (e) => {\n",
              "      resolve(e.target.files);\n",
              "    });\n",
              "  });\n",
              "\n",
              "  const cancel = document.createElement('button');\n",
              "  inputElement.parentElement.appendChild(cancel);\n",
              "  cancel.textContent = 'Cancel upload';\n",
              "  const cancelPromise = new Promise((resolve) => {\n",
              "    cancel.onclick = () => {\n",
              "      resolve(null);\n",
              "    };\n",
              "  });\n",
              "\n",
              "  // Wait for the user to pick the files.\n",
              "  const files = yield {\n",
              "    promise: Promise.race([pickedPromise, cancelPromise]),\n",
              "    response: {\n",
              "      action: 'starting',\n",
              "    }\n",
              "  };\n",
              "\n",
              "  cancel.remove();\n",
              "\n",
              "  // Disable the input element since further picks are not allowed.\n",
              "  inputElement.disabled = true;\n",
              "\n",
              "  if (!files) {\n",
              "    return {\n",
              "      response: {\n",
              "        action: 'complete',\n",
              "      }\n",
              "    };\n",
              "  }\n",
              "\n",
              "  for (const file of files) {\n",
              "    const li = document.createElement('li');\n",
              "    li.append(span(file.name, {fontWeight: 'bold'}));\n",
              "    li.append(span(\n",
              "        `(${file.type || 'n/a'}) - ${file.size} bytes, ` +\n",
              "        `last modified: ${\n",
              "            file.lastModifiedDate ? file.lastModifiedDate.toLocaleDateString() :\n",
              "                                    'n/a'} - `));\n",
              "    const percent = span('0% done');\n",
              "    li.appendChild(percent);\n",
              "\n",
              "    outputElement.appendChild(li);\n",
              "\n",
              "    const fileDataPromise = new Promise((resolve) => {\n",
              "      const reader = new FileReader();\n",
              "      reader.onload = (e) => {\n",
              "        resolve(e.target.result);\n",
              "      };\n",
              "      reader.readAsArrayBuffer(file);\n",
              "    });\n",
              "    // Wait for the data to be ready.\n",
              "    let fileData = yield {\n",
              "      promise: fileDataPromise,\n",
              "      response: {\n",
              "        action: 'continue',\n",
              "      }\n",
              "    };\n",
              "\n",
              "    // Use a chunked sending to avoid message size limits. See b/62115660.\n",
              "    let position = 0;\n",
              "    do {\n",
              "      const length = Math.min(fileData.byteLength - position, MAX_PAYLOAD_SIZE);\n",
              "      const chunk = new Uint8Array(fileData, position, length);\n",
              "      position += length;\n",
              "\n",
              "      const base64 = btoa(String.fromCharCode.apply(null, chunk));\n",
              "      yield {\n",
              "        response: {\n",
              "          action: 'append',\n",
              "          file: file.name,\n",
              "          data: base64,\n",
              "        },\n",
              "      };\n",
              "\n",
              "      let percentDone = fileData.byteLength === 0 ?\n",
              "          100 :\n",
              "          Math.round((position / fileData.byteLength) * 100);\n",
              "      percent.textContent = `${percentDone}% done`;\n",
              "\n",
              "    } while (position < fileData.byteLength);\n",
              "  }\n",
              "\n",
              "  // All done.\n",
              "  yield {\n",
              "    response: {\n",
              "      action: 'complete',\n",
              "    }\n",
              "  };\n",
              "}\n",
              "\n",
              "scope.google = scope.google || {};\n",
              "scope.google.colab = scope.google.colab || {};\n",
              "scope.google.colab._files = {\n",
              "  _uploadFiles,\n",
              "  _uploadFilesContinue,\n",
              "};\n",
              "})(self);\n",
              "</script> "
            ]
          },
          "metadata": {}
        },
        {
          "output_type": "stream",
          "name": "stdout",
          "text": [
            "Saving kaggle.json to kaggle.json\n"
          ]
        },
        {
          "output_type": "execute_result",
          "data": {
            "text/plain": [
              "{'kaggle.json': b'{\"username\":\"miguelariaslondoo\",\"key\":\"7418f5016cd15765af60765f150c1ba7\"}'}"
            ]
          },
          "metadata": {},
          "execution_count": 5
        }
      ]
    },
    {
      "cell_type": "code",
      "source": [
        "!cp kaggle.json ~/.kaggle/"
      ],
      "metadata": {
        "id": "gKQTIyJC7EWC"
      },
      "execution_count": 6,
      "outputs": []
    },
    {
      "cell_type": "code",
      "source": [
        "!kaggle competitions download -c champs-scalar-coupling"
      ],
      "metadata": {
        "colab": {
          "base_uri": "https://localhost:8080/"
        },
        "id": "YA653Rbj7IC8",
        "outputId": "b5a06d65-566c-474a-9b25-a9b287cc9bad"
      },
      "execution_count": 7,
      "outputs": [
        {
          "output_type": "stream",
          "name": "stdout",
          "text": [
            "Warning: Your Kaggle API key is readable by other users on this system! To fix this, you can run 'chmod 600 /root/.kaggle/kaggle.json'\n",
            "Downloading champs-scalar-coupling.zip to /content\n",
            "100% 377M/377M [00:04<00:00, 56.2MB/s]\n",
            "100% 377M/377M [00:04<00:00, 97.6MB/s]\n"
          ]
        }
      ]
    },
    {
      "cell_type": "code",
      "source": [
        "!unzip -o '/content/champs-scalar-coupling.zip'"
      ],
      "metadata": {
        "id": "EHOoqEW37LX0"
      },
      "execution_count": null,
      "outputs": []
    },
    {
      "cell_type": "code",
      "source": [
        "import glob\n",
        "import pandas as pd\n",
        "\n",
        "csv_files = glob.glob('*.csv')\n",
        "\n",
        "for file in csv_files:\n",
        "    df = pd.read_csv(file)\n",
        "    print(f\"Information for {file}:\")\n",
        "    print(f\"Number of rows: {len(df)}\")\n",
        "    print(f\"Columns: {df.columns.tolist()}\")\n",
        "    print(f\"Data types:\\n{df.dtypes}\\n\")\n"
      ],
      "metadata": {
        "colab": {
          "base_uri": "https://localhost:8080/"
        },
        "id": "p6D0iSbe7mSH",
        "outputId": "2dffac25-7971-421e-a19a-83e79e50b98e"
      },
      "execution_count": 2,
      "outputs": [
        {
          "output_type": "stream",
          "name": "stdout",
          "text": [
            "Information for structures.csv:\n",
            "Number of rows: 2358875\n",
            "Columns: ['molecule_name', 'atom_index', 'atom', 'x', 'y', 'z']\n",
            "Data types:\n",
            "molecule_name     object\n",
            "atom_index         int64\n",
            "atom              object\n",
            "x                float64\n",
            "y                float64\n",
            "z                float64\n",
            "dtype: object\n",
            "\n",
            "Information for magnetic_shielding_tensors.csv:\n",
            "Number of rows: 2358875\n",
            "Columns: ['molecule_name', 'atom_index', 'XX', 'YX', 'ZX', 'XY', 'YY', 'ZY', 'XZ', 'YZ', 'ZZ']\n",
            "Data types:\n",
            "molecule_name     object\n",
            "atom_index         int64\n",
            "XX               float64\n",
            "YX               float64\n",
            "ZX               float64\n",
            "XY               float64\n",
            "YY               float64\n",
            "ZY               float64\n",
            "XZ               float64\n",
            "YZ               float64\n",
            "ZZ               float64\n",
            "dtype: object\n",
            "\n",
            "Information for df_final_train.csv:\n",
            "Number of rows: 4659076\n",
            "Columns: ['molecule_name', 'atom_index_0', 'atom_index_1', 'dipole_moment_x', 'dipole_moment_y', 'dipole_moment_z', 'potential_energy', 'type', 'scalar_coupling_constant', 'fc', 'sd', 'pso', 'dso', 'XX_AT0', 'YX_AT0', 'ZX_AT0', 'XY_AT0', 'YY_AT0', 'ZY_AT0', 'XZ_AT0', 'YZ_AT0', 'ZZ_AT0', 'mulliken_charge_AT0', 'atom_AT0', 'x_AT0', 'y_AT0', 'z_AT0', 'XX_AT1', 'YX_AT1', 'ZX_AT1', 'XY_AT1', 'YY_AT1', 'ZY_AT1', 'XZ_AT1', 'YZ_AT1', 'ZZ_AT1', 'mulliken_charge_AT1', 'atom_AT1', 'x_AT1', 'y_AT1', 'z_AT1']\n",
            "Data types:\n",
            "molecule_name                object\n",
            "atom_index_0                  int64\n",
            "atom_index_1                  int64\n",
            "dipole_moment_x             float64\n",
            "dipole_moment_y             float64\n",
            "dipole_moment_z             float64\n",
            "potential_energy            float64\n",
            "type                         object\n",
            "scalar_coupling_constant    float64\n",
            "fc                          float64\n",
            "sd                          float64\n",
            "pso                         float64\n",
            "dso                         float64\n",
            "XX_AT0                      float64\n",
            "YX_AT0                      float64\n",
            "ZX_AT0                      float64\n",
            "XY_AT0                      float64\n",
            "YY_AT0                      float64\n",
            "ZY_AT0                      float64\n",
            "XZ_AT0                      float64\n",
            "YZ_AT0                      float64\n",
            "ZZ_AT0                      float64\n",
            "mulliken_charge_AT0         float64\n",
            "atom_AT0                     object\n",
            "x_AT0                       float64\n",
            "y_AT0                       float64\n",
            "z_AT0                       float64\n",
            "XX_AT1                      float64\n",
            "YX_AT1                      float64\n",
            "ZX_AT1                      float64\n",
            "XY_AT1                      float64\n",
            "YY_AT1                      float64\n",
            "ZY_AT1                      float64\n",
            "XZ_AT1                      float64\n",
            "YZ_AT1                      float64\n",
            "ZZ_AT1                      float64\n",
            "mulliken_charge_AT1         float64\n",
            "atom_AT1                     object\n",
            "x_AT1                       float64\n",
            "y_AT1                       float64\n",
            "z_AT1                       float64\n",
            "dtype: object\n",
            "\n",
            "Information for dipole_moments.csv:\n",
            "Number of rows: 130789\n",
            "Columns: ['molecule_name', 'X', 'Y', 'Z']\n",
            "Data types:\n",
            "molecule_name     object\n",
            "X                float64\n",
            "Y                float64\n",
            "Z                float64\n",
            "dtype: object\n",
            "\n",
            "Information for sample_submission.csv:\n",
            "Number of rows: 2505190\n",
            "Columns: ['id', 'scalar_coupling_constant']\n",
            "Data types:\n",
            "id                          int64\n",
            "scalar_coupling_constant    int64\n",
            "dtype: object\n",
            "\n",
            "Information for mulliken_charges.csv:\n",
            "Number of rows: 2358875\n",
            "Columns: ['molecule_name', 'atom_index', 'mulliken_charge']\n",
            "Data types:\n",
            "molecule_name       object\n",
            "atom_index           int64\n",
            "mulliken_charge    float64\n",
            "dtype: object\n",
            "\n",
            "Information for scalar_coupling_contributions.csv:\n",
            "Number of rows: 4659076\n",
            "Columns: ['molecule_name', 'atom_index_0', 'atom_index_1', 'type', 'fc', 'sd', 'pso', 'dso']\n",
            "Data types:\n",
            "molecule_name     object\n",
            "atom_index_0       int64\n",
            "atom_index_1       int64\n",
            "type              object\n",
            "fc               float64\n",
            "sd               float64\n",
            "pso              float64\n",
            "dso              float64\n",
            "dtype: object\n",
            "\n",
            "Information for potential_energy.csv:\n",
            "Number of rows: 130789\n",
            "Columns: ['molecule_name', 'potential_energy']\n",
            "Data types:\n",
            "molecule_name        object\n",
            "potential_energy    float64\n",
            "dtype: object\n",
            "\n",
            "Information for train.csv:\n",
            "Number of rows: 4659076\n",
            "Columns: ['id', 'molecule_name', 'atom_index_0', 'atom_index_1', 'type', 'scalar_coupling_constant']\n",
            "Data types:\n",
            "id                            int64\n",
            "molecule_name                object\n",
            "atom_index_0                  int64\n",
            "atom_index_1                  int64\n",
            "type                         object\n",
            "scalar_coupling_constant    float64\n",
            "dtype: object\n",
            "\n",
            "Information for test.csv:\n",
            "Number of rows: 2505190\n",
            "Columns: ['id', 'molecule_name', 'atom_index_0', 'atom_index_1', 'type']\n",
            "Data types:\n",
            "id                int64\n",
            "molecule_name    object\n",
            "atom_index_0      int64\n",
            "atom_index_1      int64\n",
            "type             object\n",
            "dtype: object\n",
            "\n"
          ]
        }
      ]
    },
    {
      "cell_type": "code",
      "source": [
        "for file in csv_files:\n",
        "    df = pd.read_csv(file)\n",
        "    print(f\"{file}:{df.shape}\")"
      ],
      "metadata": {
        "colab": {
          "base_uri": "https://localhost:8080/"
        },
        "id": "Z5xP1RAtCxwD",
        "outputId": "7d2dc938-b98c-49b7-911a-7119948e68b4"
      },
      "execution_count": 3,
      "outputs": [
        {
          "output_type": "stream",
          "name": "stdout",
          "text": [
            "structures.csv:(2358875, 6)\n",
            "magnetic_shielding_tensors.csv:(2358875, 11)\n",
            "df_final_train.csv:(4659076, 41)\n",
            "dipole_moments.csv:(130789, 4)\n",
            "sample_submission.csv:(2505190, 2)\n",
            "mulliken_charges.csv:(2358875, 3)\n",
            "scalar_coupling_contributions.csv:(4659076, 8)\n",
            "potential_energy.csv:(130789, 2)\n",
            "train.csv:(4659076, 6)\n",
            "test.csv:(2505190, 5)\n"
          ]
        }
      ]
    },
    {
      "cell_type": "markdown",
      "source": [
        "CARGAMOS TODOS LOS DATOS EN SUS RESPECTIVOS DATAFRAMES\n"
      ],
      "metadata": {
        "id": "NJ9hmiMG31Sl"
      }
    },
    {
      "cell_type": "code",
      "source": [
        "import pandas as pd\n",
        "import matplotlib.pyplot as plt\n",
        "\n",
        "df_dipole_moments = pd.read_csv('dipole_moments.csv')\n",
        "df_magnetic_shielding_tensors = pd.read_csv('magnetic_shielding_tensors.csv')\n",
        "df_mulliken_charges = pd.read_csv('mulliken_charges.csv')\n",
        "df_potential_energy = pd.read_csv('potential_energy.csv')\n",
        "#df_sample_submission = pd.read_csv('sample_submission.csv')\n",
        "df_scalar_coupling_contributions = pd.read_csv('scalar_coupling_contributions.csv')\n",
        "df_structures = pd.read_csv('structures.csv')\n",
        "df_test = pd.read_csv('test.csv')\n",
        "df_train = pd.read_csv('train.csv')\n"
      ],
      "metadata": {
        "id": "kFNnSiJh3-kW"
      },
      "execution_count": 4,
      "outputs": []
    },
    {
      "cell_type": "markdown",
      "source": [
        "## ORGANIZAMOS LOS DATOS ADICIONALES PARA AGREGARLOS AL DATAFRAME DE TRAIN Y TEST"
      ],
      "metadata": {
        "id": "D6jpXg48aYJp"
      }
    },
    {
      "cell_type": "code",
      "source": [
        "# Data frame of dipole moments and potential energy\n",
        "# have the same size,are he total number of molecules by name\n",
        "df_dipole_moments_potential_energy = pd.merge(df_dipole_moments, df_potential_energy, on='molecule_name')\n",
        "#rename the columns x y z to dipole_moment_x dipole_moment_y dipole_moment_z\n",
        "df_dipole_moments_potential_energy.rename(columns={'X': 'dipole_moment_x', 'Y': 'dipole_moment_y', 'Z': 'dipole_moment_z'}, inplace=True)\n",
        "print(df_dipole_moments_potential_energy.head())\n",
        "print(df_dipole_moments_potential_energy.shape)"
      ],
      "metadata": {
        "colab": {
          "base_uri": "https://localhost:8080/"
        },
        "id": "LT6xSNACaLzU",
        "outputId": "04d2ad0c-2e7c-444f-ca21-65a57273f51e"
      },
      "execution_count": 5,
      "outputs": [
        {
          "output_type": "stream",
          "name": "stdout",
          "text": [
            "      molecule_name  dipole_moment_x  dipole_moment_y  dipole_moment_z  \\\n",
            "0  dsgdb9nsd_000001           0.0000              0.0           0.0000   \n",
            "1  dsgdb9nsd_000002          -0.0002              0.0           1.6256   \n",
            "2  dsgdb9nsd_000003           0.0000              0.0          -1.8511   \n",
            "3  dsgdb9nsd_000004           0.0000              0.0           0.0000   \n",
            "4  dsgdb9nsd_000005           0.0000              0.0          -2.8937   \n",
            "\n",
            "   potential_energy  \n",
            "0        -40.523680  \n",
            "1        -56.560246  \n",
            "2        -76.426077  \n",
            "3        -77.335268  \n",
            "4        -93.428488  \n",
            "(130789, 5)\n"
          ]
        }
      ]
    },
    {
      "cell_type": "code",
      "source": [
        "#data frame of magnetic shielding tensors,structures and mulliken charges\n",
        "print(f\"shape of magshield {df_magnetic_shielding_tensors.shape}\")\n",
        "print(f\"shape of mulliken {df_mulliken_charges.shape}\")\n",
        "print(f\"shape of structures {df_structures.shape}\")\n",
        "#merge the data frames y molecule name and atom index\n",
        "df_magnetic_shielding_tensors_mulliken_charges_structures = pd.merge(df_magnetic_shielding_tensors, df_mulliken_charges, on=['molecule_name','atom_index'])\n",
        "df_magnetic_shielding_tensors_mulliken_charges_structures = pd.merge(df_magnetic_shielding_tensors_mulliken_charges_structures, df_structures, on=['molecule_name','atom_index'])\n",
        "print(df_magnetic_shielding_tensors_mulliken_charges_structures.head())"
      ],
      "metadata": {
        "colab": {
          "base_uri": "https://localhost:8080/"
        },
        "id": "p4DiVaVrbIRl",
        "outputId": "231a4eec-ff7d-4294-c8e1-1a4ab0837e24"
      },
      "execution_count": 6,
      "outputs": [
        {
          "output_type": "stream",
          "name": "stdout",
          "text": [
            "shape of magshield (2358875, 11)\n",
            "shape of mulliken (2358875, 3)\n",
            "shape of structures (2358875, 6)\n",
            "      molecule_name  atom_index        XX      YX      ZX      XY        YY  \\\n",
            "0  dsgdb9nsd_000001           0  195.3147  0.0000 -0.0001  0.0000  195.3171   \n",
            "1  dsgdb9nsd_000001           1   31.3410 -1.2317  4.0544 -1.2317   28.9546   \n",
            "2  dsgdb9nsd_000001           2   31.5814  1.2173 -4.1474  1.2173   28.9036   \n",
            "3  dsgdb9nsd_000001           3   31.5172  4.1086  1.2723  4.1088   33.9068   \n",
            "4  dsgdb9nsd_000001           4   31.4029 -4.0942 -1.1793 -4.0944   34.0776   \n",
            "\n",
            "       ZY      XZ      YZ        ZZ  mulliken_charge atom         x         y  \\\n",
            "0  0.0007 -0.0001  0.0007  195.3169        -0.535689    C -0.012698  1.085804   \n",
            "1 -1.7173  4.0546 -1.7173   34.0861         0.133921    H  0.002150 -0.006031   \n",
            "2 -1.6036 -4.1476 -1.6036   33.8967         0.133922    H  1.011731  1.463751   \n",
            "3  1.6950  1.2724  1.6951   28.9579         0.133923    H -0.540815  1.447527   \n",
            "4  1.6259 -1.1795  1.6260   28.9013         0.133923    H -0.523814  1.437933   \n",
            "\n",
            "          z  \n",
            "0  0.008001  \n",
            "1  0.001976  \n",
            "2  0.000277  \n",
            "3 -0.876644  \n",
            "4  0.906397  \n"
          ]
        }
      ]
    },
    {
      "cell_type": "code",
      "source": [
        "#data frame of train and scalar coupling contributions,have the same size\n",
        "print(f\"shape of train {df_train.shape}\")\n",
        "print(f\"shape of scalar coupling {df_scalar_coupling_contributions.shape}\")\n",
        "# merging the 2 data frames by molecule name,type and atom index\n",
        "df_train_scalar_coupling_contributions = pd.merge(df_train, df_scalar_coupling_contributions, on=['molecule_name','atom_index_0','atom_index_1','type'])\n",
        "print(df_train_scalar_coupling_contributions.head())"
      ],
      "metadata": {
        "colab": {
          "base_uri": "https://localhost:8080/"
        },
        "id": "I-yPOQfwb0HV",
        "outputId": "f9afd323-995e-4719-8d03-c8aabc06fbb5"
      },
      "execution_count": 7,
      "outputs": [
        {
          "output_type": "stream",
          "name": "stdout",
          "text": [
            "shape of train (4659076, 6)\n",
            "shape of scalar coupling (4659076, 8)\n",
            "   id     molecule_name  atom_index_0  atom_index_1  type  \\\n",
            "0   0  dsgdb9nsd_000001             1             0  1JHC   \n",
            "1   1  dsgdb9nsd_000001             1             2  2JHH   \n",
            "2   2  dsgdb9nsd_000001             1             3  2JHH   \n",
            "3   3  dsgdb9nsd_000001             1             4  2JHH   \n",
            "4   4  dsgdb9nsd_000001             2             0  1JHC   \n",
            "\n",
            "   scalar_coupling_constant       fc        sd      pso       dso  \n",
            "0                   84.8076  83.0224  0.254579  1.25862  0.272010  \n",
            "1                  -11.2570 -11.0347  0.352978  2.85839 -3.433600  \n",
            "2                  -11.2548 -11.0325  0.352944  2.85852 -3.433870  \n",
            "3                  -11.2543 -11.0319  0.352934  2.85855 -3.433930  \n",
            "4                   84.8074  83.0222  0.254585  1.25861  0.272013  \n"
          ]
        }
      ]
    },
    {
      "cell_type": "code",
      "source": [
        "#Now we have to merge df_dipole_moments_potential_energy and df_train_scalar_coupling_contributions\n",
        "#by molecule name,the is only one molecule name in df_dipole_moments_potential_energy so that means that\n",
        "#so it must aply to all the rows of df_train_scalar_coupling_contributions by the same name\n",
        "df_dipole_moments_potential_energy_train_scalar_coupling_contributions = pd.merge(df_dipole_moments_potential_energy, df_train_scalar_coupling_contributions, on=['molecule_name'])\n",
        "\n",
        "#errase de id column\n",
        "df_dipole_moments_potential_energy_train_scalar_coupling_contributions.drop(['id'], axis=1, inplace=True)\n",
        "# putting atom_index_0 and atom_index_1 next to molecule_name\n",
        "cols = list(df_dipole_moments_potential_energy_train_scalar_coupling_contributions.columns.values)\n",
        "cols.pop(cols.index('molecule_name'))\n",
        "cols.pop(cols.index('atom_index_0'))\n",
        "cols.pop(cols.index('atom_index_1'))\n",
        "df_dipole_moments_potential_energy_train_scalar_coupling_contributions = df_dipole_moments_potential_energy_train_scalar_coupling_contributions[['molecule_name']+['atom_index_0']+['atom_index_1']+cols]\n",
        "print(df_dipole_moments_potential_energy_train_scalar_coupling_contributions.head())"
      ],
      "metadata": {
        "colab": {
          "base_uri": "https://localhost:8080/"
        },
        "id": "T0DvLv9w7UPe",
        "outputId": "4a7c31f6-f5fb-48d9-9aa5-49780ee9ce54"
      },
      "execution_count": 8,
      "outputs": [
        {
          "output_type": "stream",
          "name": "stdout",
          "text": [
            "      molecule_name  atom_index_0  atom_index_1  dipole_moment_x  \\\n",
            "0  dsgdb9nsd_000001             1             0              0.0   \n",
            "1  dsgdb9nsd_000001             1             2              0.0   \n",
            "2  dsgdb9nsd_000001             1             3              0.0   \n",
            "3  dsgdb9nsd_000001             1             4              0.0   \n",
            "4  dsgdb9nsd_000001             2             0              0.0   \n",
            "\n",
            "   dipole_moment_y  dipole_moment_z  potential_energy  type  \\\n",
            "0              0.0              0.0         -40.52368  1JHC   \n",
            "1              0.0              0.0         -40.52368  2JHH   \n",
            "2              0.0              0.0         -40.52368  2JHH   \n",
            "3              0.0              0.0         -40.52368  2JHH   \n",
            "4              0.0              0.0         -40.52368  1JHC   \n",
            "\n",
            "   scalar_coupling_constant       fc        sd      pso       dso  \n",
            "0                   84.8076  83.0224  0.254579  1.25862  0.272010  \n",
            "1                  -11.2570 -11.0347  0.352978  2.85839 -3.433600  \n",
            "2                  -11.2548 -11.0325  0.352944  2.85852 -3.433870  \n",
            "3                  -11.2543 -11.0319  0.352934  2.85855 -3.433930  \n",
            "4                   84.8074  83.0222  0.254585  1.25861  0.272013  \n"
          ]
        }
      ]
    },
    {
      "cell_type": "markdown",
      "source": [
        "Now we have to merge df_dipole_moments_potential_energy_train_scalar_coupling_contributions\n",
        "\n",
        "with df_magnetic_shielding_tensors_mulliken_charges_structures,by molecule name,atom_index_0 and atom_index_1\n",
        "the problem is that df_dipole_moments_potential_energy_train_scalar_coupling_contributions has 4658147 rows\n",
        "and df_magnetic_shielding_tensors_mulliken_charges_structures has 1533537 rows\n",
        "so we have to do a merge by molecule name,atom_index_0 and atom_index_1\n",
        "but we have to do it 2 times,one for each atom_index_0 and atom_index_1\n",
        "first we do it for atom_index_0,but we need to create 2 dataframes of df_magnetic_shielding_tensors_mulliken_charges_structures\n",
        "one for atom_index_0 and another for atom_index_1"
      ],
      "metadata": {
        "id": "eE0O5N5S7uwO"
      }
    },
    {
      "cell_type": "code",
      "source": [
        "\n",
        "# first we create df_magnetic_shielding_tensors_mulliken_charges_structures_atom_index_0\n",
        "df_magnetic_shielding_tensors_mulliken_charges_structures_atom_index_0 = df_magnetic_shielding_tensors_mulliken_charges_structures.copy()\n",
        "# rename all the columns of df_magnetic_shielding_tensors_mulliken_charges_structures_atom_index_0 adig a AT0 to the end of each column name\n",
        "# except atom_index and molecule_name\n",
        "df_magnetic_shielding_tensors_mulliken_charges_structures_atom_index_0.rename(columns=lambda x: x + '_AT0' if (x != 'atom_index' and x != 'molecule_name') else x, inplace=True)\n",
        "df_magnetic_shielding_tensors_mulliken_charges_structures_atom_index_0.rename(columns={'atom_index': 'atom_index_0'}, inplace=True)\n",
        "print(df_magnetic_shielding_tensors_mulliken_charges_structures_atom_index_0.head())\n",
        "#we do the same for df_magnetic_shielding_tensors_mulliken_charges_structures_atom_index_1\n",
        "df_magnetic_shielding_tensors_mulliken_charges_structures_atom_index_1 = df_magnetic_shielding_tensors_mulliken_charges_structures.copy()\n",
        "df_magnetic_shielding_tensors_mulliken_charges_structures_atom_index_1.rename(columns=lambda x: x + '_AT1' if (x != 'atom_index' and x != 'molecule_name') else x, inplace=True)\n",
        "df_magnetic_shielding_tensors_mulliken_charges_structures_atom_index_1.rename(columns={'atom_index': 'atom_index_1'}, inplace=True)\n",
        "print(df_magnetic_shielding_tensors_mulliken_charges_structures_atom_index_1.head())\n",
        "\n"
      ],
      "metadata": {
        "id": "vIEk6MRBcT_E",
        "colab": {
          "base_uri": "https://localhost:8080/"
        },
        "outputId": "32288624-b31f-4361-c15f-54d618ceec4d"
      },
      "execution_count": 9,
      "outputs": [
        {
          "output_type": "stream",
          "name": "stdout",
          "text": [
            "      molecule_name  atom_index_0    XX_AT0  YX_AT0  ZX_AT0  XY_AT0    YY_AT0  \\\n",
            "0  dsgdb9nsd_000001             0  195.3147  0.0000 -0.0001  0.0000  195.3171   \n",
            "1  dsgdb9nsd_000001             1   31.3410 -1.2317  4.0544 -1.2317   28.9546   \n",
            "2  dsgdb9nsd_000001             2   31.5814  1.2173 -4.1474  1.2173   28.9036   \n",
            "3  dsgdb9nsd_000001             3   31.5172  4.1086  1.2723  4.1088   33.9068   \n",
            "4  dsgdb9nsd_000001             4   31.4029 -4.0942 -1.1793 -4.0944   34.0776   \n",
            "\n",
            "   ZY_AT0  XZ_AT0  YZ_AT0    ZZ_AT0  mulliken_charge_AT0 atom_AT0     x_AT0  \\\n",
            "0  0.0007 -0.0001  0.0007  195.3169            -0.535689        C -0.012698   \n",
            "1 -1.7173  4.0546 -1.7173   34.0861             0.133921        H  0.002150   \n",
            "2 -1.6036 -4.1476 -1.6036   33.8967             0.133922        H  1.011731   \n",
            "3  1.6950  1.2724  1.6951   28.9579             0.133923        H -0.540815   \n",
            "4  1.6259 -1.1795  1.6260   28.9013             0.133923        H -0.523814   \n",
            "\n",
            "      y_AT0     z_AT0  \n",
            "0  1.085804  0.008001  \n",
            "1 -0.006031  0.001976  \n",
            "2  1.463751  0.000277  \n",
            "3  1.447527 -0.876644  \n",
            "4  1.437933  0.906397  \n",
            "      molecule_name  atom_index_1    XX_AT1  YX_AT1  ZX_AT1  XY_AT1    YY_AT1  \\\n",
            "0  dsgdb9nsd_000001             0  195.3147  0.0000 -0.0001  0.0000  195.3171   \n",
            "1  dsgdb9nsd_000001             1   31.3410 -1.2317  4.0544 -1.2317   28.9546   \n",
            "2  dsgdb9nsd_000001             2   31.5814  1.2173 -4.1474  1.2173   28.9036   \n",
            "3  dsgdb9nsd_000001             3   31.5172  4.1086  1.2723  4.1088   33.9068   \n",
            "4  dsgdb9nsd_000001             4   31.4029 -4.0942 -1.1793 -4.0944   34.0776   \n",
            "\n",
            "   ZY_AT1  XZ_AT1  YZ_AT1    ZZ_AT1  mulliken_charge_AT1 atom_AT1     x_AT1  \\\n",
            "0  0.0007 -0.0001  0.0007  195.3169            -0.535689        C -0.012698   \n",
            "1 -1.7173  4.0546 -1.7173   34.0861             0.133921        H  0.002150   \n",
            "2 -1.6036 -4.1476 -1.6036   33.8967             0.133922        H  1.011731   \n",
            "3  1.6950  1.2724  1.6951   28.9579             0.133923        H -0.540815   \n",
            "4  1.6259 -1.1795  1.6260   28.9013             0.133923        H -0.523814   \n",
            "\n",
            "      y_AT1     z_AT1  \n",
            "0  1.085804  0.008001  \n",
            "1 -0.006031  0.001976  \n",
            "2  1.463751  0.000277  \n",
            "3  1.447527 -0.876644  \n",
            "4  1.437933  0.906397  \n"
          ]
        }
      ]
    },
    {
      "cell_type": "code",
      "source": [
        "#the names are very long so we rename the dataframe\n",
        "df_pm_pe_t_scc = df_dipole_moments_potential_energy_train_scalar_coupling_contributions.copy()\n",
        "#now we merge the first time df_dipole_moments_potential_energy_train_scalar_coupling_contributions\n",
        "# with df_magnetic_shielding_tensors_mulliken_charges_structures_atom_index_0\n",
        "df_pm_pe_t_scc_mst_mcs_ai0 = pd.merge(df_pm_pe_t_scc, df_magnetic_shielding_tensors_mulliken_charges_structures_atom_index_0, on=['molecule_name','atom_index_0'])\n",
        "#now we merge the second time df_dipole_moments_potential_energy_train_scalar_coupling_contributions\n",
        "# with df_magnetic_shielding_tensors_mulliken_charges_structures_atom_index_1\n",
        "df_pm_pe_t_scc_mst_mcs_ai0_ai1 = pd.merge(df_pm_pe_t_scc_mst_mcs_ai0, df_magnetic_shielding_tensors_mulliken_charges_structures_atom_index_1, on=['molecule_name','atom_index_1'])\n",
        "print(df_pm_pe_t_scc_mst_mcs_ai0_ai1.head())"
      ],
      "metadata": {
        "colab": {
          "base_uri": "https://localhost:8080/"
        },
        "id": "yWR_4ceD7_iB",
        "outputId": "550378ed-6720-4c1e-882d-4665fb402a21"
      },
      "execution_count": 10,
      "outputs": [
        {
          "output_type": "stream",
          "name": "stdout",
          "text": [
            "      molecule_name  atom_index_0  atom_index_1  dipole_moment_x  \\\n",
            "0  dsgdb9nsd_000001             1             0              0.0   \n",
            "1  dsgdb9nsd_000001             2             0              0.0   \n",
            "2  dsgdb9nsd_000001             3             0              0.0   \n",
            "3  dsgdb9nsd_000001             4             0              0.0   \n",
            "4  dsgdb9nsd_000001             1             2              0.0   \n",
            "\n",
            "   dipole_moment_y  dipole_moment_z  potential_energy  type  \\\n",
            "0              0.0              0.0         -40.52368  1JHC   \n",
            "1              0.0              0.0         -40.52368  1JHC   \n",
            "2              0.0              0.0         -40.52368  1JHC   \n",
            "3              0.0              0.0         -40.52368  1JHC   \n",
            "4              0.0              0.0         -40.52368  2JHH   \n",
            "\n",
            "   scalar_coupling_constant       fc  ...    YY_AT1  ZY_AT1  XZ_AT1  YZ_AT1  \\\n",
            "0                   84.8076  83.0224  ...  195.3171  0.0007 -0.0001  0.0007   \n",
            "1                   84.8074  83.0222  ...  195.3171  0.0007 -0.0001  0.0007   \n",
            "2                   84.8093  83.0241  ...  195.3171  0.0007 -0.0001  0.0007   \n",
            "3                   84.8095  83.0243  ...  195.3171  0.0007 -0.0001  0.0007   \n",
            "4                  -11.2570 -11.0347  ...   28.9036 -1.6036 -4.1476 -1.6036   \n",
            "\n",
            "     ZZ_AT1  mulliken_charge_AT1  atom_AT1     x_AT1     y_AT1     z_AT1  \n",
            "0  195.3169            -0.535689         C -0.012698  1.085804  0.008001  \n",
            "1  195.3169            -0.535689         C -0.012698  1.085804  0.008001  \n",
            "2  195.3169            -0.535689         C -0.012698  1.085804  0.008001  \n",
            "3  195.3169            -0.535689         C -0.012698  1.085804  0.008001  \n",
            "4   33.8967             0.133922         H  1.011731  1.463751  0.000277  \n",
            "\n",
            "[5 rows x 41 columns]\n"
          ]
        }
      ]
    },
    {
      "cell_type": "code",
      "source": [
        "df_final_train=df_pm_pe_t_scc_mst_mcs_ai0_ai1.copy()\n",
        "print(f\"Columns: {df_final_train.columns.tolist()}\")\n",
        "print({len(df_final_train.columns.tolist())})\n",
        "print(df_final_train.shape)\n"
      ],
      "metadata": {
        "colab": {
          "base_uri": "https://localhost:8080/"
        },
        "id": "FnYdkAPweGGb",
        "outputId": "26b97f52-0143-446e-a65b-dcd525d854da"
      },
      "execution_count": 11,
      "outputs": [
        {
          "output_type": "stream",
          "name": "stdout",
          "text": [
            "Columns: ['molecule_name', 'atom_index_0', 'atom_index_1', 'dipole_moment_x', 'dipole_moment_y', 'dipole_moment_z', 'potential_energy', 'type', 'scalar_coupling_constant', 'fc', 'sd', 'pso', 'dso', 'XX_AT0', 'YX_AT0', 'ZX_AT0', 'XY_AT0', 'YY_AT0', 'ZY_AT0', 'XZ_AT0', 'YZ_AT0', 'ZZ_AT0', 'mulliken_charge_AT0', 'atom_AT0', 'x_AT0', 'y_AT0', 'z_AT0', 'XX_AT1', 'YX_AT1', 'ZX_AT1', 'XY_AT1', 'YY_AT1', 'ZY_AT1', 'XZ_AT1', 'YZ_AT1', 'ZZ_AT1', 'mulliken_charge_AT1', 'atom_AT1', 'x_AT1', 'y_AT1', 'z_AT1']\n",
            "{41}\n",
            "(4659076, 41)\n"
          ]
        }
      ]
    },
    {
      "cell_type": "code",
      "source": [
        "#Saving the DF to a .csv file\n",
        "df_final_train.to_csv('df_final_train.csv', index=False)"
      ],
      "metadata": {
        "id": "t0Tu9goA-URZ"
      },
      "execution_count": 15,
      "outputs": []
    },
    {
      "cell_type": "code",
      "source": [],
      "metadata": {
        "id": "3QwtWW1RDZBH"
      },
      "execution_count": null,
      "outputs": []
    },
    {
      "cell_type": "code",
      "source": [
        "# porcentage of value types in the data frame\n",
        "print((df_final_train.dtypes.value_counts(normalize=True) * 100).round(0).astype(str) + '%')"
      ],
      "metadata": {
        "id": "qaaNIoCPeSXV",
        "colab": {
          "base_uri": "https://localhost:8080/"
        },
        "outputId": "587552dd-72a9-42e4-d26d-ba33b51457e0"
      },
      "execution_count": 12,
      "outputs": [
        {
          "output_type": "stream",
          "name": "stdout",
          "text": [
            "float64    85.0%\n",
            "object     10.0%\n",
            "int64       5.0%\n",
            "dtype: object\n"
          ]
        }
      ]
    },
    {
      "cell_type": "code",
      "source": [
        "print(\"df_train_merged_final.csv:\")\n",
        "print(f\"Number of rows: {len(df_final_train)}\")\n",
        "print(f\"Number of Columns: {len((df_final_train.columns.tolist()))}\")\n",
        "print(f\"Data types:\\n{df_final_train.dtypes}\\n\")"
      ],
      "metadata": {
        "colab": {
          "base_uri": "https://localhost:8080/"
        },
        "id": "aIhJP3NIBDVY",
        "outputId": "65e3e109-e256-4c3d-a862-45b6d358d4cb"
      },
      "execution_count": 13,
      "outputs": [
        {
          "output_type": "stream",
          "name": "stdout",
          "text": [
            "df_train_merged_final.csv:\n",
            "Number of rows: 4659076\n",
            "Number of Columns: 41\n",
            "Data types:\n",
            "molecule_name                object\n",
            "atom_index_0                  int64\n",
            "atom_index_1                  int64\n",
            "dipole_moment_x             float64\n",
            "dipole_moment_y             float64\n",
            "dipole_moment_z             float64\n",
            "potential_energy            float64\n",
            "type                         object\n",
            "scalar_coupling_constant    float64\n",
            "fc                          float64\n",
            "sd                          float64\n",
            "pso                         float64\n",
            "dso                         float64\n",
            "XX_AT0                      float64\n",
            "YX_AT0                      float64\n",
            "ZX_AT0                      float64\n",
            "XY_AT0                      float64\n",
            "YY_AT0                      float64\n",
            "ZY_AT0                      float64\n",
            "XZ_AT0                      float64\n",
            "YZ_AT0                      float64\n",
            "ZZ_AT0                      float64\n",
            "mulliken_charge_AT0         float64\n",
            "atom_AT0                     object\n",
            "x_AT0                       float64\n",
            "y_AT0                       float64\n",
            "z_AT0                       float64\n",
            "XX_AT1                      float64\n",
            "YX_AT1                      float64\n",
            "ZX_AT1                      float64\n",
            "XY_AT1                      float64\n",
            "YY_AT1                      float64\n",
            "ZY_AT1                      float64\n",
            "XZ_AT1                      float64\n",
            "YZ_AT1                      float64\n",
            "ZZ_AT1                      float64\n",
            "mulliken_charge_AT1         float64\n",
            "atom_AT1                     object\n",
            "x_AT1                       float64\n",
            "y_AT1                       float64\n",
            "z_AT1                       float64\n",
            "dtype: object\n",
            "\n"
          ]
        }
      ]
    },
    {
      "cell_type": "code",
      "source": [
        "df_final_train = pd.read_csv('df_final_train.csv')"
      ],
      "metadata": {
        "id": "EiU6tVtDDgyT"
      },
      "execution_count": 4,
      "outputs": []
    },
    {
      "cell_type": "code",
      "source": [
        "df_final_train_test = df_final_train.copy()"
      ],
      "metadata": {
        "id": "5SU38k_jErJL"
      },
      "execution_count": 7,
      "outputs": []
    },
    {
      "cell_type": "code",
      "source": [
        "import pandas as pd\n",
        "import numpy as np\n",
        "\n",
        "# Select 6 random columns\n",
        "cols = df_final_train_test.sample(n=6, axis=1).columns\n",
        "\n",
        "# Replace 5% of the data in those columns with NaN\n",
        "for col in cols:\n",
        "    df_final_train_test.loc[df_final_train_test.sample(frac=0.05).index, col] = np.nan\n"
      ],
      "metadata": {
        "id": "zSr8PsY0fAhE"
      },
      "execution_count": 8,
      "outputs": []
    },
    {
      "cell_type": "code",
      "source": [
        "# Calculate the percentage of missing values for each column\n",
        "missing_percentages = (df_final_train_test.isnull().sum() / len(df_final_train_test) * 100).round(0).astype(str) + '%'\n",
        "# Printing only the colums that have missing values\n",
        "print(missing_percentages[missing_percentages != '0.0%'])"
      ],
      "metadata": {
        "colab": {
          "base_uri": "https://localhost:8080/"
        },
        "id": "ZsICSvkLCrjR",
        "outputId": "8138ea95-b561-400b-a240-72243a6c4bb5"
      },
      "execution_count": 9,
      "outputs": [
        {
          "output_type": "stream",
          "name": "stdout",
          "text": [
            "dipole_moment_z             5.0%\n",
            "scalar_coupling_constant    5.0%\n",
            "fc                          5.0%\n",
            "sd                          5.0%\n",
            "ZZ_AT0                      5.0%\n",
            "ZZ_AT1                      5.0%\n",
            "dtype: object\n"
          ]
        }
      ]
    },
    {
      "cell_type": "code",
      "source": [],
      "metadata": {
        "id": "qBoHNsO9CwD-"
      },
      "execution_count": null,
      "outputs": []
    }
  ]
}