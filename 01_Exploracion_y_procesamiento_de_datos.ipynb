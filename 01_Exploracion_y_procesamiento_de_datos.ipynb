{
  "nbformat": 4,
  "nbformat_minor": 0,
  "metadata": {
    "colab": {
      "provenance": []
    },
    "kernelspec": {
      "name": "python3",
      "display_name": "Python 3"
    },
    "language_info": {
      "name": "python"
    }
  },
  "cells": [
    {
      "cell_type": "code",
      "execution_count": 1,
      "metadata": {
        "colab": {
          "base_uri": "https://localhost:8080/"
        },
        "id": "2HM6JPc76Z6F",
        "outputId": "506c232b-0209-47b1-f3b4-dd5b665668c7"
      },
      "outputs": [
        {
          "output_type": "stream",
          "name": "stdout",
          "text": [
            "Mounted at /content/drive\n"
          ]
        }
      ],
      "source": [
        "from google.colab import drive\n",
        "drive.mount('/content/drive')"
      ]
    },
    {
      "cell_type": "code",
      "source": [
        "!pip install -U -q kaggle"
      ],
      "metadata": {
        "id": "GvM2_LpH6nAI"
      },
      "execution_count": 2,
      "outputs": []
    },
    {
      "cell_type": "code",
      "source": [
        "!mkdir -p ~/.kaggle"
      ],
      "metadata": {
        "id": "j614rQPh6qMx"
      },
      "execution_count": 3,
      "outputs": []
    },
    {
      "cell_type": "code",
      "source": [
        "from google.colab import files"
      ],
      "metadata": {
        "id": "zIZZMQ3_6wow"
      },
      "execution_count": 4,
      "outputs": []
    },
    {
      "cell_type": "code",
      "source": [
        "files\n",
        "files.upload()"
      ],
      "metadata": {
        "colab": {
          "base_uri": "https://localhost:8080/",
          "height": 91
        },
        "id": "B6E9oOlE60RT",
        "outputId": "b37d2679-f725-4bf6-e141-c980ee38b517"
      },
      "execution_count": 5,
      "outputs": [
        {
          "output_type": "display_data",
          "data": {
            "text/plain": [
              "<IPython.core.display.HTML object>"
            ],
            "text/html": [
              "\n",
              "     <input type=\"file\" id=\"files-0b114b04-64b2-4e42-9bc7-c9ddfcba59fd\" name=\"files[]\" multiple disabled\n",
              "        style=\"border:none\" />\n",
              "     <output id=\"result-0b114b04-64b2-4e42-9bc7-c9ddfcba59fd\">\n",
              "      Upload widget is only available when the cell has been executed in the\n",
              "      current browser session. Please rerun this cell to enable.\n",
              "      </output>\n",
              "      <script>// Copyright 2017 Google LLC\n",
              "//\n",
              "// Licensed under the Apache License, Version 2.0 (the \"License\");\n",
              "// you may not use this file except in compliance with the License.\n",
              "// You may obtain a copy of the License at\n",
              "//\n",
              "//      http://www.apache.org/licenses/LICENSE-2.0\n",
              "//\n",
              "// Unless required by applicable law or agreed to in writing, software\n",
              "// distributed under the License is distributed on an \"AS IS\" BASIS,\n",
              "// WITHOUT WARRANTIES OR CONDITIONS OF ANY KIND, either express or implied.\n",
              "// See the License for the specific language governing permissions and\n",
              "// limitations under the License.\n",
              "\n",
              "/**\n",
              " * @fileoverview Helpers for google.colab Python module.\n",
              " */\n",
              "(function(scope) {\n",
              "function span(text, styleAttributes = {}) {\n",
              "  const element = document.createElement('span');\n",
              "  element.textContent = text;\n",
              "  for (const key of Object.keys(styleAttributes)) {\n",
              "    element.style[key] = styleAttributes[key];\n",
              "  }\n",
              "  return element;\n",
              "}\n",
              "\n",
              "// Max number of bytes which will be uploaded at a time.\n",
              "const MAX_PAYLOAD_SIZE = 100 * 1024;\n",
              "\n",
              "function _uploadFiles(inputId, outputId) {\n",
              "  const steps = uploadFilesStep(inputId, outputId);\n",
              "  const outputElement = document.getElementById(outputId);\n",
              "  // Cache steps on the outputElement to make it available for the next call\n",
              "  // to uploadFilesContinue from Python.\n",
              "  outputElement.steps = steps;\n",
              "\n",
              "  return _uploadFilesContinue(outputId);\n",
              "}\n",
              "\n",
              "// This is roughly an async generator (not supported in the browser yet),\n",
              "// where there are multiple asynchronous steps and the Python side is going\n",
              "// to poll for completion of each step.\n",
              "// This uses a Promise to block the python side on completion of each step,\n",
              "// then passes the result of the previous step as the input to the next step.\n",
              "function _uploadFilesContinue(outputId) {\n",
              "  const outputElement = document.getElementById(outputId);\n",
              "  const steps = outputElement.steps;\n",
              "\n",
              "  const next = steps.next(outputElement.lastPromiseValue);\n",
              "  return Promise.resolve(next.value.promise).then((value) => {\n",
              "    // Cache the last promise value to make it available to the next\n",
              "    // step of the generator.\n",
              "    outputElement.lastPromiseValue = value;\n",
              "    return next.value.response;\n",
              "  });\n",
              "}\n",
              "\n",
              "/**\n",
              " * Generator function which is called between each async step of the upload\n",
              " * process.\n",
              " * @param {string} inputId Element ID of the input file picker element.\n",
              " * @param {string} outputId Element ID of the output display.\n",
              " * @return {!Iterable<!Object>} Iterable of next steps.\n",
              " */\n",
              "function* uploadFilesStep(inputId, outputId) {\n",
              "  const inputElement = document.getElementById(inputId);\n",
              "  inputElement.disabled = false;\n",
              "\n",
              "  const outputElement = document.getElementById(outputId);\n",
              "  outputElement.innerHTML = '';\n",
              "\n",
              "  const pickedPromise = new Promise((resolve) => {\n",
              "    inputElement.addEventListener('change', (e) => {\n",
              "      resolve(e.target.files);\n",
              "    });\n",
              "  });\n",
              "\n",
              "  const cancel = document.createElement('button');\n",
              "  inputElement.parentElement.appendChild(cancel);\n",
              "  cancel.textContent = 'Cancel upload';\n",
              "  const cancelPromise = new Promise((resolve) => {\n",
              "    cancel.onclick = () => {\n",
              "      resolve(null);\n",
              "    };\n",
              "  });\n",
              "\n",
              "  // Wait for the user to pick the files.\n",
              "  const files = yield {\n",
              "    promise: Promise.race([pickedPromise, cancelPromise]),\n",
              "    response: {\n",
              "      action: 'starting',\n",
              "    }\n",
              "  };\n",
              "\n",
              "  cancel.remove();\n",
              "\n",
              "  // Disable the input element since further picks are not allowed.\n",
              "  inputElement.disabled = true;\n",
              "\n",
              "  if (!files) {\n",
              "    return {\n",
              "      response: {\n",
              "        action: 'complete',\n",
              "      }\n",
              "    };\n",
              "  }\n",
              "\n",
              "  for (const file of files) {\n",
              "    const li = document.createElement('li');\n",
              "    li.append(span(file.name, {fontWeight: 'bold'}));\n",
              "    li.append(span(\n",
              "        `(${file.type || 'n/a'}) - ${file.size} bytes, ` +\n",
              "        `last modified: ${\n",
              "            file.lastModifiedDate ? file.lastModifiedDate.toLocaleDateString() :\n",
              "                                    'n/a'} - `));\n",
              "    const percent = span('0% done');\n",
              "    li.appendChild(percent);\n",
              "\n",
              "    outputElement.appendChild(li);\n",
              "\n",
              "    const fileDataPromise = new Promise((resolve) => {\n",
              "      const reader = new FileReader();\n",
              "      reader.onload = (e) => {\n",
              "        resolve(e.target.result);\n",
              "      };\n",
              "      reader.readAsArrayBuffer(file);\n",
              "    });\n",
              "    // Wait for the data to be ready.\n",
              "    let fileData = yield {\n",
              "      promise: fileDataPromise,\n",
              "      response: {\n",
              "        action: 'continue',\n",
              "      }\n",
              "    };\n",
              "\n",
              "    // Use a chunked sending to avoid message size limits. See b/62115660.\n",
              "    let position = 0;\n",
              "    do {\n",
              "      const length = Math.min(fileData.byteLength - position, MAX_PAYLOAD_SIZE);\n",
              "      const chunk = new Uint8Array(fileData, position, length);\n",
              "      position += length;\n",
              "\n",
              "      const base64 = btoa(String.fromCharCode.apply(null, chunk));\n",
              "      yield {\n",
              "        response: {\n",
              "          action: 'append',\n",
              "          file: file.name,\n",
              "          data: base64,\n",
              "        },\n",
              "      };\n",
              "\n",
              "      let percentDone = fileData.byteLength === 0 ?\n",
              "          100 :\n",
              "          Math.round((position / fileData.byteLength) * 100);\n",
              "      percent.textContent = `${percentDone}% done`;\n",
              "\n",
              "    } while (position < fileData.byteLength);\n",
              "  }\n",
              "\n",
              "  // All done.\n",
              "  yield {\n",
              "    response: {\n",
              "      action: 'complete',\n",
              "    }\n",
              "  };\n",
              "}\n",
              "\n",
              "scope.google = scope.google || {};\n",
              "scope.google.colab = scope.google.colab || {};\n",
              "scope.google.colab._files = {\n",
              "  _uploadFiles,\n",
              "  _uploadFilesContinue,\n",
              "};\n",
              "})(self);\n",
              "</script> "
            ]
          },
          "metadata": {}
        },
        {
          "output_type": "stream",
          "name": "stdout",
          "text": [
            "Saving kaggle.json to kaggle.json\n"
          ]
        },
        {
          "output_type": "execute_result",
          "data": {
            "text/plain": [
              "{'kaggle.json': b'{\"username\":\"miguelariaslondoo\",\"key\":\"7418f5016cd15765af60765f150c1ba7\"}'}"
            ]
          },
          "metadata": {},
          "execution_count": 5
        }
      ]
    },
    {
      "cell_type": "code",
      "source": [
        "!cp kaggle.json ~/.kaggle/"
      ],
      "metadata": {
        "id": "gKQTIyJC7EWC"
      },
      "execution_count": 6,
      "outputs": []
    },
    {
      "cell_type": "code",
      "source": [
        "!kaggle competitions download -c champs-scalar-coupling"
      ],
      "metadata": {
        "colab": {
          "base_uri": "https://localhost:8080/"
        },
        "id": "YA653Rbj7IC8",
        "outputId": "ec3d8f1a-f089-4b47-8bf0-d58c2e087764"
      },
      "execution_count": 7,
      "outputs": [
        {
          "output_type": "stream",
          "name": "stdout",
          "text": [
            "Warning: Your Kaggle API key is readable by other users on this system! To fix this, you can run 'chmod 600 /root/.kaggle/kaggle.json'\n",
            "Downloading champs-scalar-coupling.zip to /content\n",
            " 97% 367M/377M [00:02<00:00, 172MB/s]\n",
            "100% 377M/377M [00:02<00:00, 141MB/s]\n"
          ]
        }
      ]
    },
    {
      "cell_type": "code",
      "source": [
        "!unzip -o '/content/champs-scalar-coupling.zip'"
      ],
      "metadata": {
        "id": "EHOoqEW37LX0"
      },
      "execution_count": null,
      "outputs": []
    },
    {
      "cell_type": "code",
      "source": [
        "import glob\n",
        "import pandas as pd\n",
        "\n",
        "csv_files = glob.glob('*.csv')\n",
        "\n",
        "for file in csv_files:\n",
        "    df = pd.read_csv(file)\n",
        "    print(f\"Information for {file}:\")\n",
        "    print(f\"Number of rows: {len(df)}\")\n",
        "    print(f\"Columns: {df.columns.tolist()}\")\n",
        "    print(f\"Data types:\\n{df.dtypes}\\n\")\n"
      ],
      "metadata": {
        "colab": {
          "base_uri": "https://localhost:8080/"
        },
        "id": "p6D0iSbe7mSH",
        "outputId": "2dbcfb9f-1494-4195-d41d-9206dc05b3a1"
      },
      "execution_count": 9,
      "outputs": [
        {
          "output_type": "stream",
          "name": "stdout",
          "text": [
            "Information for potential_energy.csv:\n",
            "Number of rows: 130789\n",
            "Columns: ['molecule_name', 'potential_energy']\n",
            "Data types:\n",
            "molecule_name        object\n",
            "potential_energy    float64\n",
            "dtype: object\n",
            "\n",
            "Information for magnetic_shielding_tensors.csv:\n",
            "Number of rows: 2358875\n",
            "Columns: ['molecule_name', 'atom_index', 'XX', 'YX', 'ZX', 'XY', 'YY', 'ZY', 'XZ', 'YZ', 'ZZ']\n",
            "Data types:\n",
            "molecule_name     object\n",
            "atom_index         int64\n",
            "XX               float64\n",
            "YX               float64\n",
            "ZX               float64\n",
            "XY               float64\n",
            "YY               float64\n",
            "ZY               float64\n",
            "XZ               float64\n",
            "YZ               float64\n",
            "ZZ               float64\n",
            "dtype: object\n",
            "\n",
            "Information for structures.csv:\n",
            "Number of rows: 2358875\n",
            "Columns: ['molecule_name', 'atom_index', 'atom', 'x', 'y', 'z']\n",
            "Data types:\n",
            "molecule_name     object\n",
            "atom_index         int64\n",
            "atom              object\n",
            "x                float64\n",
            "y                float64\n",
            "z                float64\n",
            "dtype: object\n",
            "\n",
            "Information for scalar_coupling_contributions.csv:\n",
            "Number of rows: 4659076\n",
            "Columns: ['molecule_name', 'atom_index_0', 'atom_index_1', 'type', 'fc', 'sd', 'pso', 'dso']\n",
            "Data types:\n",
            "molecule_name     object\n",
            "atom_index_0       int64\n",
            "atom_index_1       int64\n",
            "type              object\n",
            "fc               float64\n",
            "sd               float64\n",
            "pso              float64\n",
            "dso              float64\n",
            "dtype: object\n",
            "\n",
            "Information for test.csv:\n",
            "Number of rows: 2505190\n",
            "Columns: ['id', 'molecule_name', 'atom_index_0', 'atom_index_1', 'type']\n",
            "Data types:\n",
            "id                int64\n",
            "molecule_name    object\n",
            "atom_index_0      int64\n",
            "atom_index_1      int64\n",
            "type             object\n",
            "dtype: object\n",
            "\n",
            "Information for dipole_moments.csv:\n",
            "Number of rows: 130789\n",
            "Columns: ['molecule_name', 'X', 'Y', 'Z']\n",
            "Data types:\n",
            "molecule_name     object\n",
            "X                float64\n",
            "Y                float64\n",
            "Z                float64\n",
            "dtype: object\n",
            "\n",
            "Information for train.csv:\n",
            "Number of rows: 4659076\n",
            "Columns: ['id', 'molecule_name', 'atom_index_0', 'atom_index_1', 'type', 'scalar_coupling_constant']\n",
            "Data types:\n",
            "id                            int64\n",
            "molecule_name                object\n",
            "atom_index_0                  int64\n",
            "atom_index_1                  int64\n",
            "type                         object\n",
            "scalar_coupling_constant    float64\n",
            "dtype: object\n",
            "\n",
            "Information for sample_submission.csv:\n",
            "Number of rows: 2505190\n",
            "Columns: ['id', 'scalar_coupling_constant']\n",
            "Data types:\n",
            "id                          int64\n",
            "scalar_coupling_constant    int64\n",
            "dtype: object\n",
            "\n",
            "Information for mulliken_charges.csv:\n",
            "Number of rows: 2358875\n",
            "Columns: ['molecule_name', 'atom_index', 'mulliken_charge']\n",
            "Data types:\n",
            "molecule_name       object\n",
            "atom_index           int64\n",
            "mulliken_charge    float64\n",
            "dtype: object\n",
            "\n"
          ]
        }
      ]
    },
    {
      "cell_type": "code",
      "source": [
        "for file in csv_files:\n",
        "    df = pd.read_csv(file)\n",
        "    print(f\"{file}:\")"
      ],
      "metadata": {
        "colab": {
          "base_uri": "https://localhost:8080/"
        },
        "id": "Z5xP1RAtCxwD",
        "outputId": "3cb9dc0b-c5d5-4466-91ec-cb84397ab668"
      },
      "execution_count": 10,
      "outputs": [
        {
          "output_type": "stream",
          "name": "stdout",
          "text": [
            "potential_energy.csv:\n",
            "magnetic_shielding_tensors.csv:\n",
            "structures.csv:\n",
            "scalar_coupling_contributions.csv:\n",
            "test.csv:\n",
            "dipole_moments.csv:\n",
            "train.csv:\n",
            "sample_submission.csv:\n",
            "mulliken_charges.csv:\n"
          ]
        }
      ]
    },
    {
      "cell_type": "markdown",
      "source": [
        "## ORGANIZAMOS LOS DATOS ADICIONALES PARA AGREGARLOS AL DATAFRAME DE TRAIN Y TEST"
      ],
      "metadata": {
        "id": "D6jpXg48aYJp"
      }
    },
    {
      "cell_type": "code",
      "source": [
        "\n",
        "# Load the dipole_moments.csv file into a pandas dataframe\n",
        "df_dipole = pd.read_csv('dipole_moments.csv')\n",
        "# Rename the columns\n",
        "df_dipole = df_dipole.rename(columns={'molecule_name': 'molecule_name', 'X': 'dipole_X','Y': 'dipole_Y', 'Z': 'dipole_Z'})\n",
        "# Load the potential_energy.csv file into a pandas dataframe\n",
        "df_potential = pd.read_csv('potential_energy.csv')\n",
        "# Merge the two dataframes on the 'molecule_name' column\n",
        "df_dipole_energy = pd.merge(df_dipole, df_potential, on='molecule_name')\n",
        "\n",
        "# Print the merged dataframe\n",
        "print(df_dipole_energy.head())\n",
        "print(df_dipole_energy.shape)"
      ],
      "metadata": {
        "colab": {
          "base_uri": "https://localhost:8080/"
        },
        "id": "LT6xSNACaLzU",
        "outputId": "7bb236f9-7b6d-49df-f97b-d51bb62b750d"
      },
      "execution_count": 11,
      "outputs": [
        {
          "output_type": "stream",
          "name": "stdout",
          "text": [
            "      molecule_name  dipole_X  dipole_Y  dipole_Z  potential_energy\n",
            "0  dsgdb9nsd_000001    0.0000       0.0    0.0000        -40.523680\n",
            "1  dsgdb9nsd_000002   -0.0002       0.0    1.6256        -56.560246\n",
            "2  dsgdb9nsd_000003    0.0000       0.0   -1.8511        -76.426077\n",
            "3  dsgdb9nsd_000004    0.0000       0.0    0.0000        -77.335268\n",
            "4  dsgdb9nsd_000005    0.0000       0.0   -2.8937        -93.428488\n",
            "(130789, 5)\n"
          ]
        }
      ]
    },
    {
      "cell_type": "code",
      "source": [
        "df_magshield = pd.read_csv('magnetic_shielding_tensors.csv')\n",
        "df_mulliken = pd.read_csv('mulliken_charges.csv')\n",
        "df_structures = pd.read_csv('structures.csv')\n",
        "\n",
        "print(f\"shape of magshield {df_magshield.shape}\")\n",
        "print(f\"shape of mulliken {df_mulliken.shape}\")\n",
        "print(f\"shape of structures {df_structures.shape}\")\n",
        "\n",
        "df_merged = pd.merge(df_magshield, df_mulliken)\n",
        "df_merged = pd.merge(df_merged, df_structures)\n",
        "df_merged = df_merged.rename(columns={'x': 'struc_x', 'y': 'struc_y', 'z': 'struc_z'})\n",
        "print(df_merged.head())\n",
        "print(df_merged.shape)"
      ],
      "metadata": {
        "colab": {
          "base_uri": "https://localhost:8080/"
        },
        "id": "p4DiVaVrbIRl",
        "outputId": "b099d18d-0bd3-46a0-f0e5-9161189da0ef"
      },
      "execution_count": 19,
      "outputs": [
        {
          "output_type": "stream",
          "name": "stdout",
          "text": [
            "shape of magshield (2358875, 11)\n",
            "shape of mulliken (2358875, 3)\n",
            "shape of structures (2358875, 6)\n",
            "      molecule_name  atom_index        XX      YX      ZX      XY        YY  \\\n",
            "0  dsgdb9nsd_000001           0  195.3147  0.0000 -0.0001  0.0000  195.3171   \n",
            "1  dsgdb9nsd_000001           1   31.3410 -1.2317  4.0544 -1.2317   28.9546   \n",
            "2  dsgdb9nsd_000001           2   31.5814  1.2173 -4.1474  1.2173   28.9036   \n",
            "3  dsgdb9nsd_000001           3   31.5172  4.1086  1.2723  4.1088   33.9068   \n",
            "4  dsgdb9nsd_000001           4   31.4029 -4.0942 -1.1793 -4.0944   34.0776   \n",
            "\n",
            "       ZY      XZ      YZ        ZZ  mulliken_charge atom   struc_x   struc_y  \\\n",
            "0  0.0007 -0.0001  0.0007  195.3169        -0.535689    C -0.012698  1.085804   \n",
            "1 -1.7173  4.0546 -1.7173   34.0861         0.133921    H  0.002150 -0.006031   \n",
            "2 -1.6036 -4.1476 -1.6036   33.8967         0.133922    H  1.011731  1.463751   \n",
            "3  1.6950  1.2724  1.6951   28.9579         0.133923    H -0.540815  1.447527   \n",
            "4  1.6259 -1.1795  1.6260   28.9013         0.133923    H -0.523814  1.437933   \n",
            "\n",
            "    struc_z  \n",
            "0  0.008001  \n",
            "1  0.001976  \n",
            "2  0.000277  \n",
            "3 -0.876644  \n",
            "4  0.906397  \n",
            "(2358875, 16)\n"
          ]
        }
      ]
    },
    {
      "cell_type": "code",
      "source": [
        "# Load the train.csv file into a pandas dataframe\n",
        "df_train = pd.read_csv('train.csv')\n",
        "df_scalar = pd.read_csv('scalar_coupling_contributions.csv')\n",
        "\n",
        "# Merge the two dataframes based on molecule name and atom_index_0\n",
        "df_train_merged = pd.merge(df_train, df_scalar)\n",
        "df_train_merged = df_train_merged.drop('id', axis=1)\n",
        "\n",
        "print(df_train_merged.head())\n",
        "print(df_train_merged.shape)"
      ],
      "metadata": {
        "colab": {
          "base_uri": "https://localhost:8080/"
        },
        "id": "I-yPOQfwb0HV",
        "outputId": "bde70d2d-9461-4512-8787-2090711f5bd7"
      },
      "execution_count": 20,
      "outputs": [
        {
          "output_type": "stream",
          "name": "stdout",
          "text": [
            "      molecule_name  atom_index_0  atom_index_1  type  \\\n",
            "0  dsgdb9nsd_000001             1             0  1JHC   \n",
            "1  dsgdb9nsd_000001             1             2  2JHH   \n",
            "2  dsgdb9nsd_000001             1             3  2JHH   \n",
            "3  dsgdb9nsd_000001             1             4  2JHH   \n",
            "4  dsgdb9nsd_000001             2             0  1JHC   \n",
            "\n",
            "   scalar_coupling_constant       fc        sd      pso       dso  \n",
            "0                   84.8076  83.0224  0.254579  1.25862  0.272010  \n",
            "1                  -11.2570 -11.0347  0.352978  2.85839 -3.433600  \n",
            "2                  -11.2548 -11.0325  0.352944  2.85852 -3.433870  \n",
            "3                  -11.2543 -11.0319  0.352934  2.85855 -3.433930  \n",
            "4                   84.8074  83.0222  0.254585  1.25861  0.272013  \n",
            "(4659076, 9)\n"
          ]
        }
      ]
    },
    {
      "cell_type": "code",
      "source": [
        "# Distribution of the categorical column \"type\"\n",
        "import pandas as pd\n",
        "\n",
        "# Load the train.csv file into a pandas dataframe\n",
        "dftrain = pd.read_csv('train.csv')\n",
        "\n",
        "# Get all the unique values in the 'type' column\n",
        "types = dftrain['type'].unique()\n",
        "\n",
        "# Print the unique values\n",
        "print(types)\n",
        "# Get the value counts of each unique value in the 'type' column\n",
        "type_counts = dftrain['type'].value_counts()\n",
        "\n",
        "# Calculate the percentage of each unique value\n",
        "type_percentages = type_counts / len(dftrain) * 100\n",
        "\n",
        "# Print the percentage of each unique value\n",
        "print(type_percentages)\n"
      ],
      "metadata": {
        "colab": {
          "base_uri": "https://localhost:8080/"
        },
        "id": "Afo83YefBTt1",
        "outputId": "3b464132-3b95-43a5-e0e6-b306aaf33d5e"
      },
      "execution_count": 27,
      "outputs": [
        {
          "output_type": "stream",
          "name": "stdout",
          "text": [
            "['1JHC' '2JHH' '1JHN' '2JHN' '2JHC' '3JHH' '3JHC' '3JHN']\n",
            "3JHC    32.435766\n",
            "2JHC    24.486980\n",
            "1JHC    15.220464\n",
            "3JHH    12.674809\n",
            "2JHH     8.112939\n",
            "3JHN     3.576095\n",
            "2JHN     2.555421\n",
            "1JHN     0.937525\n",
            "Name: type, dtype: float64\n"
          ]
        }
      ]
    },
    {
      "cell_type": "code",
      "source": [
        "#Missing values in the df\n",
        "import pandas as pd\n",
        "import matplotlib.pyplot as plt\n",
        "\n",
        "# Load the train.csv file into a pandas dataframe\n",
        "dftrain = pd.read_csv('train.csv')\n",
        "dftest = pd.read_csv('test.csv')\n",
        "\n",
        "# Check the shape of the dataframes\n",
        "print(f\"shape of train {dftrain.shape}\")\n",
        "print(f\"shape of test {dftest.shape}\")\n",
        "# Check the data types of each column\n",
        "\n",
        "# Check for missing values\n",
        "print(dftest.isnull().sum())\n",
        "print(dftrain.isnull().sum())\n"
      ],
      "metadata": {
        "colab": {
          "base_uri": "https://localhost:8080/"
        },
        "id": "5fRaG1BjBl_q",
        "outputId": "c58cf126-8c8d-4a1d-8333-0354c76b052d"
      },
      "execution_count": 28,
      "outputs": [
        {
          "output_type": "stream",
          "name": "stdout",
          "text": [
            "shape of train (4659076, 6)\n",
            "shape of test (2505190, 5)\n",
            "id               0\n",
            "molecule_name    0\n",
            "atom_index_0     0\n",
            "atom_index_1     0\n",
            "type             0\n",
            "dtype: int64\n",
            "id                          0\n",
            "molecule_name               0\n",
            "atom_index_0                0\n",
            "atom_index_1                0\n",
            "type                        0\n",
            "scalar_coupling_constant    0\n",
            "dtype: int64\n"
          ]
        }
      ]
    },
    {
      "cell_type": "code",
      "source": [
        "\n",
        "\n",
        "# Create copies of df_merged for atom index 0 and atom index 1\n",
        "df_merged_atomindex0 = df_merged.copy()\n",
        "df_merged_atomindex1 = df_merged.copy()\n",
        "\n",
        "# Add suffixes to the columns of the copies to differentiate between atom index 0 and atom index 1\n",
        "df_merged_atomindex0 = df_merged_atomindex0.add_suffix('_atomIndex0')\n",
        "df_merged_atomindex1 = df_merged_atomindex1.add_suffix('_atomIndex1')\n",
        "\n",
        "# Rename specific columns for clarity\n",
        "df_merged_atomindex0 = df_merged_atomindex0.rename(columns={'molecule_name_atomIndex0': 'molecule_name', 'atom_index_atomIndex0': 'atom_index'})\n",
        "df_merged_atomindex1 = df_merged_atomindex1.rename(columns={'molecule_name_atomIndex1': 'molecule_name', 'atom_index_atomIndex1': 'atom_index'})"
      ],
      "metadata": {
        "id": "vIEk6MRBcT_E"
      },
      "execution_count": 21,
      "outputs": []
    },
    {
      "cell_type": "code",
      "source": [
        "\n",
        "\n",
        "# Merge df_train_merged with df_merged_atomindex0 based on molecule_name and atom_index_0\n",
        "df_train_merged_final = pd.merge(df_train_merged, df_merged_atomindex0, how='left', left_on=['molecule_name', 'atom_index_0'], right_on=['molecule_name', 'atom_index'])\n",
        "\n",
        "# Drop the redundant 'atom_index' column after the merge\n",
        "df_train_merged_final = df_train_merged_final.drop(['atom_index'], axis=1)\n",
        "\n",
        "# Merge df_train_merged_final with df_merged_atomindex1 based on molecule_name and atom_index_1\n",
        "df_train_merged_final = pd.merge(df_train_merged_final, df_merged_atomindex1, how='left', left_on=['molecule_name', 'atom_index_1'], right_on=['molecule_name', 'atom_index'])\n",
        "\n",
        "# Drop the redundant 'atom_index' column after the second merge\n",
        "df_train_merged_final = df_train_merged_final.drop(['atom_index'], axis=1)\n",
        "\n",
        "# Print the first few rows of the merged dataframe\n",
        "print(df_train_merged_final.head())\n",
        "\n",
        "# Print the shape of the merged dataframe\n",
        "print(df_train_merged_final.shape)\n"
      ],
      "metadata": {
        "colab": {
          "base_uri": "https://localhost:8080/"
        },
        "id": "5W-IKO30dfZS",
        "outputId": "2f7e008c-a82a-4176-a5d7-0424e61901bb"
      },
      "execution_count": 22,
      "outputs": [
        {
          "output_type": "stream",
          "name": "stdout",
          "text": [
            "      molecule_name  atom_index_0  atom_index_1  type  \\\n",
            "0  dsgdb9nsd_000001             1             0  1JHC   \n",
            "1  dsgdb9nsd_000001             1             2  2JHH   \n",
            "2  dsgdb9nsd_000001             1             3  2JHH   \n",
            "3  dsgdb9nsd_000001             1             4  2JHH   \n",
            "4  dsgdb9nsd_000001             2             0  1JHC   \n",
            "\n",
            "   scalar_coupling_constant       fc        sd      pso       dso  \\\n",
            "0                   84.8076  83.0224  0.254579  1.25862  0.272010   \n",
            "1                  -11.2570 -11.0347  0.352978  2.85839 -3.433600   \n",
            "2                  -11.2548 -11.0325  0.352944  2.85852 -3.433870   \n",
            "3                  -11.2543 -11.0319  0.352934  2.85855 -3.433930   \n",
            "4                   84.8074  83.0222  0.254585  1.25861  0.272013   \n",
            "\n",
            "   XX_atomIndex0  ...  YY_atomIndex1  ZY_atomIndex1  XZ_atomIndex1  \\\n",
            "0        31.3410  ...       195.3171         0.0007        -0.0001   \n",
            "1        31.3410  ...        28.9036        -1.6036        -4.1476   \n",
            "2        31.3410  ...        33.9068         1.6950         1.2724   \n",
            "3        31.3410  ...        34.0776         1.6259        -1.1795   \n",
            "4        31.5814  ...       195.3171         0.0007        -0.0001   \n",
            "\n",
            "   YZ_atomIndex1  ZZ_atomIndex1  mulliken_charge_atomIndex1  atom_atomIndex1  \\\n",
            "0         0.0007       195.3169                   -0.535689                C   \n",
            "1        -1.6036        33.8967                    0.133922                H   \n",
            "2         1.6951        28.9579                    0.133923                H   \n",
            "3         1.6260        28.9013                    0.133923                H   \n",
            "4         0.0007       195.3169                   -0.535689                C   \n",
            "\n",
            "   struc_x_atomIndex1  struc_y_atomIndex1 struc_z_atomIndex1  \n",
            "0           -0.012698            1.085804           0.008001  \n",
            "1            1.011731            1.463751           0.000277  \n",
            "2           -0.540815            1.447527          -0.876644  \n",
            "3           -0.523814            1.437933           0.906397  \n",
            "4           -0.012698            1.085804           0.008001  \n",
            "\n",
            "[5 rows x 37 columns]\n",
            "(4659076, 37)\n"
          ]
        }
      ]
    },
    {
      "cell_type": "code",
      "source": [
        "print(f\"Columns: {df_train_merged_final.columns.tolist()}\")\n",
        "print({len(df_train_merged_final.columns.tolist())})\n",
        "print(df_train_merged_final.shape)"
      ],
      "metadata": {
        "colab": {
          "base_uri": "https://localhost:8080/"
        },
        "id": "FnYdkAPweGGb",
        "outputId": "75f6ff74-845c-4216-8f83-a987e7dee1c6"
      },
      "execution_count": 26,
      "outputs": [
        {
          "output_type": "stream",
          "name": "stdout",
          "text": [
            "Columns: ['molecule_name', 'atom_index_0', 'atom_index_1', 'type', 'scalar_coupling_constant', 'fc', 'sd', 'pso', 'dso', 'XX_atomIndex0', 'YX_atomIndex0', 'ZX_atomIndex0', 'XY_atomIndex0', 'YY_atomIndex0', 'ZY_atomIndex0', 'XZ_atomIndex0', 'YZ_atomIndex0', 'ZZ_atomIndex0', 'mulliken_charge_atomIndex0', 'atom_atomIndex0', 'struc_x_atomIndex0', 'struc_y_atomIndex0', 'struc_z_atomIndex0', 'XX_atomIndex1', 'YX_atomIndex1', 'ZX_atomIndex1', 'XY_atomIndex1', 'YY_atomIndex1', 'ZY_atomIndex1', 'XZ_atomIndex1', 'YZ_atomIndex1', 'ZZ_atomIndex1', 'mulliken_charge_atomIndex1', 'atom_atomIndex1', 'struc_x_atomIndex1', 'struc_y_atomIndex1', 'struc_z_atomIndex1']\n",
            "{37}\n",
            "(4659076, 37)\n"
          ]
        }
      ]
    },
    {
      "cell_type": "code",
      "source": [
        "df_train_merged_final.to_csv('df_train_merged_final.csv', index=False)"
      ],
      "metadata": {
        "id": "qaaNIoCPeSXV"
      },
      "execution_count": 17,
      "outputs": []
    },
    {
      "cell_type": "code",
      "source": [
        "print(\"df_train_merged_final.csv:\")\n",
        "print(f\"Number of rows: {len(df_train_merged_final)}\")\n",
        "print(f\"Number of Columns: {len((df_train_merged_final.columns.tolist()))}\")\n",
        "print(f\"Data types:\\n{df_train_merged_final.dtypes}\\n\")\n"
      ],
      "metadata": {
        "colab": {
          "base_uri": "https://localhost:8080/"
        },
        "id": "aIhJP3NIBDVY",
        "outputId": "24ec8002-f9f7-4e4f-ea86-494ae1785d6f"
      },
      "execution_count": 25,
      "outputs": [
        {
          "output_type": "stream",
          "name": "stdout",
          "text": [
            "df_train_merged_final.csv:\n",
            "Number of rows: 4659076\n",
            "Number of Columns: 37\n",
            "Data types:\n",
            "molecule_name                  object\n",
            "atom_index_0                    int64\n",
            "atom_index_1                    int64\n",
            "type                           object\n",
            "scalar_coupling_constant      float64\n",
            "fc                            float64\n",
            "sd                            float64\n",
            "pso                           float64\n",
            "dso                           float64\n",
            "XX_atomIndex0                 float64\n",
            "YX_atomIndex0                 float64\n",
            "ZX_atomIndex0                 float64\n",
            "XY_atomIndex0                 float64\n",
            "YY_atomIndex0                 float64\n",
            "ZY_atomIndex0                 float64\n",
            "XZ_atomIndex0                 float64\n",
            "YZ_atomIndex0                 float64\n",
            "ZZ_atomIndex0                 float64\n",
            "mulliken_charge_atomIndex0    float64\n",
            "atom_atomIndex0                object\n",
            "struc_x_atomIndex0            float64\n",
            "struc_y_atomIndex0            float64\n",
            "struc_z_atomIndex0            float64\n",
            "XX_atomIndex1                 float64\n",
            "YX_atomIndex1                 float64\n",
            "ZX_atomIndex1                 float64\n",
            "XY_atomIndex1                 float64\n",
            "YY_atomIndex1                 float64\n",
            "ZY_atomIndex1                 float64\n",
            "XZ_atomIndex1                 float64\n",
            "YZ_atomIndex1                 float64\n",
            "ZZ_atomIndex1                 float64\n",
            "mulliken_charge_atomIndex1    float64\n",
            "atom_atomIndex1                object\n",
            "struc_x_atomIndex1            float64\n",
            "struc_y_atomIndex1            float64\n",
            "struc_z_atomIndex1            float64\n",
            "dtype: object\n",
            "\n"
          ]
        }
      ]
    },
    {
      "cell_type": "code",
      "source": [
        "import numpy as np\n",
        "# Select 6 random columns\n",
        "cols = df_train_merged_final.sample(n=6, axis=1).columns\n",
        "\n",
        "# Replace 5% of the data in those columns with NaN\n",
        "for col in cols:\n",
        "    df_train_merged_final.loc[df_train_merged_final.sample(frac=0.05).index, col] = np.nan\n"
      ],
      "metadata": {
        "id": "zSr8PsY0fAhE"
      },
      "execution_count": 24,
      "outputs": []
    }
  ]
}